{
 "cells": [
  {
   "cell_type": "code",
   "execution_count": 3,
   "id": "b0460d64",
   "metadata": {},
   "outputs": [],
   "source": [
    "f=open(\"sudh1.txt\",\"w\")"
   ]
  },
  {
   "cell_type": "code",
   "execution_count": 2,
   "id": "a9fa106c",
   "metadata": {},
   "outputs": [
    {
     "name": "stdout",
     "output_type": "stream",
     "text": [
      " Volume in drive C has no label.\n",
      " Volume Serial Number is 3459-824F\n",
      "\n",
      " Directory of C:\\Users\\dell\n",
      "\n",
      "10-10-2022  15:35    <DIR>          .\n",
      "10-10-2022  15:35    <DIR>          ..\n",
      "08-08-2020  21:38             2,465 .bash_history\n",
      "05-10-2022  08:47    <DIR>          .conda\n",
      "05-10-2022  08:45                25 .condarc\n",
      "05-10-2022  08:44    <DIR>          .continuum\n",
      "11-07-2022  06:57    <DIR>          .idlerc\n",
      "10-10-2022  15:25    <DIR>          .ipynb_checkpoints\n",
      "14-08-2022  09:59    <DIR>          .ipython\n",
      "14-08-2022  11:07    <DIR>          .jupyter\n",
      "07-09-2022  21:02    <DIR>          .matplotlib\n",
      "29-08-2022  07:17    <DIR>          .vscode\n",
      "23-03-2021  12:37    <DIR>          3D Objects\n",
      "07-10-2020  21:04        33,891,416 Agga Bai Sasubai Oct 7, 2020 Full Episode - Online in HD ZEE5.mp4\n",
      "14-08-2022  09:24    <DIR>          anaconda3\n",
      "23-03-2021  12:37    <DIR>          Contacts\n",
      "10-10-2022  11:32    <DIR>          Desktop\n",
      "14-08-2022  09:24    <DIR>          Documents\n",
      "10-10-2022  13:03    <DIR>          Downloads\n",
      "06-12-2020  11:27             9,273 Excel sheet teaching.xlsx\n",
      "23-03-2021  12:37    <DIR>          Favorites\n",
      "23-03-2021  12:37    <DIR>          Links\n",
      "07-10-2020  21:08        30,261,479 Mazhya Navryachi Bayko Oct 7, 2020 Full Episode - Online in HD ZEE5.mp4\n",
      "23-03-2021  12:37    <DIR>          Music\n",
      "30-11-2021  09:06    <DIR>          OneDrive\n",
      "26-03-2021  19:21    <DIR>          Pictures\n",
      "01-08-2022  20:51    <DIR>          PycharmProjects\n",
      "06-10-2022  21:02             8,628 python1.ipynb\n",
      "06-10-2022  15:21            38,171 python2.ipynb\n",
      "06-10-2022  21:00            63,356 python3.ipynb\n",
      "07-10-2022  15:45            15,932 python4.ipynb\n",
      "07-10-2022  21:21            16,498 python5.ipynb\n",
      "08-10-2022  16:25           328,162 python6.ipynb\n",
      "08-10-2022  21:04            21,633 python7(function).ipynb\n",
      "10-10-2022  12:08       148,719,572 python8(iterator).ipynb\n",
      "23-03-2021  12:37    <DIR>          Saved Games\n",
      "23-03-2021  12:37    <DIR>          Searches\n",
      "10-10-2022  15:35                 0 sudh1.txt\n",
      "07-10-2022  11:14             3,213 Untitled.ipynb\n",
      "14-08-2022  10:53             2,627 Untitled1.ipynb\n",
      "10-10-2022  15:35             4,417 Untitled10.ipynb\n",
      "14-08-2022  11:04             1,492 Untitled2.ipynb\n",
      "14-08-2022  11:37             2,770 Untitled3.ipynb\n",
      "14-08-2022  11:42             2,027 Untitled4.ipynb\n",
      "14-08-2022  11:44             3,224 Untitled5.ipynb\n",
      "14-08-2022  13:23             6,293 Untitled6.ipynb\n",
      "06-10-2022  21:02               589 Untitled7.ipynb\n",
      "05-10-2022  09:30                72 Untitled8.ipynb\n",
      "07-10-2022  15:47               589 Untitled9.ipynb\n",
      "23-03-2021  12:37    <DIR>          Videos\n",
      "              25 File(s)    213,403,923 bytes\n",
      "              25 Dir(s)  102,767,558,656 bytes free\n"
     ]
    }
   ],
   "source": [
    "ls"
   ]
  },
  {
   "cell_type": "code",
   "execution_count": 4,
   "id": "7c563bae",
   "metadata": {},
   "outputs": [
    {
     "data": {
      "text/plain": [
       "36"
      ]
     },
     "execution_count": 4,
     "metadata": {},
     "output_type": "execute_result"
    }
   ],
   "source": [
    "f.write(\"this is my very first file operation\")"
   ]
  },
  {
   "cell_type": "code",
   "execution_count": 5,
   "id": "673f044f",
   "metadata": {},
   "outputs": [],
   "source": [
    "f.close()"
   ]
  },
  {
   "cell_type": "code",
   "execution_count": 6,
   "id": "cca2facb",
   "metadata": {},
   "outputs": [
    {
     "name": "stdout",
     "output_type": "stream",
     "text": [
      " Volume in drive C has no label.\n",
      " Volume Serial Number is 3459-824F\n",
      "\n",
      " Directory of C:\\Users\\dell\n",
      "\n",
      "10-10-2022  15:39    <DIR>          .\n",
      "10-10-2022  15:39    <DIR>          ..\n",
      "08-08-2020  21:38             2,465 .bash_history\n",
      "05-10-2022  08:47    <DIR>          .conda\n",
      "05-10-2022  08:45                25 .condarc\n",
      "05-10-2022  08:44    <DIR>          .continuum\n",
      "11-07-2022  06:57    <DIR>          .idlerc\n",
      "10-10-2022  15:25    <DIR>          .ipynb_checkpoints\n",
      "14-08-2022  09:59    <DIR>          .ipython\n",
      "14-08-2022  11:07    <DIR>          .jupyter\n",
      "07-09-2022  21:02    <DIR>          .matplotlib\n",
      "29-08-2022  07:17    <DIR>          .vscode\n",
      "23-03-2021  12:37    <DIR>          3D Objects\n",
      "07-10-2020  21:04        33,891,416 Agga Bai Sasubai Oct 7, 2020 Full Episode - Online in HD ZEE5.mp4\n",
      "14-08-2022  09:24    <DIR>          anaconda3\n",
      "23-03-2021  12:37    <DIR>          Contacts\n",
      "10-10-2022  11:32    <DIR>          Desktop\n",
      "14-08-2022  09:24    <DIR>          Documents\n",
      "10-10-2022  13:03    <DIR>          Downloads\n",
      "06-12-2020  11:27             9,273 Excel sheet teaching.xlsx\n",
      "23-03-2021  12:37    <DIR>          Favorites\n",
      "23-03-2021  12:37    <DIR>          Links\n",
      "07-10-2020  21:08        30,261,479 Mazhya Navryachi Bayko Oct 7, 2020 Full Episode - Online in HD ZEE5.mp4\n",
      "23-03-2021  12:37    <DIR>          Music\n",
      "30-11-2021  09:06    <DIR>          OneDrive\n",
      "26-03-2021  19:21    <DIR>          Pictures\n",
      "01-08-2022  20:51    <DIR>          PycharmProjects\n",
      "06-10-2022  21:02             8,628 python1.ipynb\n",
      "06-10-2022  15:21            38,171 python2.ipynb\n",
      "06-10-2022  21:00            63,356 python3.ipynb\n",
      "07-10-2022  15:45            15,932 python4.ipynb\n",
      "07-10-2022  21:21            16,498 python5.ipynb\n",
      "08-10-2022  16:25           328,162 python6.ipynb\n",
      "08-10-2022  21:04            21,633 python7(function).ipynb\n",
      "10-10-2022  12:08       148,719,572 python8(iterator).ipynb\n",
      "23-03-2021  12:37    <DIR>          Saved Games\n",
      "23-03-2021  12:37    <DIR>          Searches\n",
      "10-10-2022  15:40                36 sudh1.txt\n",
      "07-10-2022  11:14             3,213 Untitled.ipynb\n",
      "14-08-2022  10:53             2,627 Untitled1.ipynb\n",
      "10-10-2022  15:39             4,712 Untitled10.ipynb\n",
      "14-08-2022  11:04             1,492 Untitled2.ipynb\n",
      "14-08-2022  11:37             2,770 Untitled3.ipynb\n",
      "14-08-2022  11:42             2,027 Untitled4.ipynb\n",
      "14-08-2022  11:44             3,224 Untitled5.ipynb\n",
      "14-08-2022  13:23             6,293 Untitled6.ipynb\n",
      "06-10-2022  21:02               589 Untitled7.ipynb\n",
      "05-10-2022  09:30                72 Untitled8.ipynb\n",
      "07-10-2022  15:47               589 Untitled9.ipynb\n",
      "23-03-2021  12:37    <DIR>          Videos\n",
      "              25 File(s)    213,404,254 bytes\n",
      "              25 Dir(s)  102,767,247,360 bytes free\n"
     ]
    }
   ],
   "source": [
    "ls"
   ]
  },
  {
   "cell_type": "code",
   "execution_count": 7,
   "id": "3496ed7d",
   "metadata": {},
   "outputs": [],
   "source": [
    "f1=open(\"test1.txt\",\"w\")"
   ]
  },
  {
   "cell_type": "code",
   "execution_count": 8,
   "id": "6f1f2e8e",
   "metadata": {},
   "outputs": [
    {
     "data": {
      "text/plain": [
       "55"
      ]
     },
     "execution_count": 8,
     "metadata": {},
     "output_type": "execute_result"
    }
   ],
   "source": [
    "f1.write(\"this is a file operation i am trying todo my fsds class\")"
   ]
  },
  {
   "cell_type": "code",
   "execution_count": 9,
   "id": "2184cae5",
   "metadata": {},
   "outputs": [],
   "source": [
    "f1.close()"
   ]
  },
  {
   "cell_type": "code",
   "execution_count": 10,
   "id": "f0772bf3",
   "metadata": {},
   "outputs": [
    {
     "name": "stdout",
     "output_type": "stream",
     "text": [
      " Volume in drive C has no label.\n",
      " Volume Serial Number is 3459-824F\n",
      "\n",
      " Directory of C:\\Users\\dell\n",
      "\n",
      "10-10-2022  15:45    <DIR>          .\n",
      "10-10-2022  15:45    <DIR>          ..\n",
      "08-08-2020  21:38             2,465 .bash_history\n",
      "05-10-2022  08:47    <DIR>          .conda\n",
      "05-10-2022  08:45                25 .condarc\n",
      "05-10-2022  08:44    <DIR>          .continuum\n",
      "11-07-2022  06:57    <DIR>          .idlerc\n",
      "10-10-2022  15:25    <DIR>          .ipynb_checkpoints\n",
      "14-08-2022  09:59    <DIR>          .ipython\n",
      "14-08-2022  11:07    <DIR>          .jupyter\n",
      "07-09-2022  21:02    <DIR>          .matplotlib\n",
      "29-08-2022  07:17    <DIR>          .vscode\n",
      "23-03-2021  12:37    <DIR>          3D Objects\n",
      "07-10-2020  21:04        33,891,416 Agga Bai Sasubai Oct 7, 2020 Full Episode - Online in HD ZEE5.mp4\n",
      "14-08-2022  09:24    <DIR>          anaconda3\n",
      "23-03-2021  12:37    <DIR>          Contacts\n",
      "10-10-2022  11:32    <DIR>          Desktop\n",
      "14-08-2022  09:24    <DIR>          Documents\n",
      "10-10-2022  13:03    <DIR>          Downloads\n",
      "06-12-2020  11:27             9,273 Excel sheet teaching.xlsx\n",
      "23-03-2021  12:37    <DIR>          Favorites\n",
      "23-03-2021  12:37    <DIR>          Links\n",
      "07-10-2020  21:08        30,261,479 Mazhya Navryachi Bayko Oct 7, 2020 Full Episode - Online in HD ZEE5.mp4\n",
      "23-03-2021  12:37    <DIR>          Music\n",
      "30-11-2021  09:06    <DIR>          OneDrive\n",
      "26-03-2021  19:21    <DIR>          Pictures\n",
      "01-08-2022  20:51    <DIR>          PycharmProjects\n",
      "06-10-2022  21:02             8,628 python1.ipynb\n",
      "06-10-2022  15:21            38,171 python2.ipynb\n",
      "06-10-2022  21:00            63,356 python3.ipynb\n",
      "07-10-2022  15:45            15,932 python4.ipynb\n",
      "07-10-2022  21:21            16,498 python5.ipynb\n",
      "08-10-2022  16:25           328,162 python6.ipynb\n",
      "08-10-2022  21:04            21,633 python7(function).ipynb\n",
      "10-10-2022  12:08       148,719,572 python8(iterator).ipynb\n",
      "23-03-2021  12:37    <DIR>          Saved Games\n",
      "23-03-2021  12:37    <DIR>          Searches\n",
      "10-10-2022  15:40                36 sudh1.txt\n",
      "10-10-2022  15:46                55 test1.txt\n",
      "07-10-2022  11:14             3,213 Untitled.ipynb\n",
      "14-08-2022  10:53             2,627 Untitled1.ipynb\n",
      "10-10-2022  15:45             8,707 Untitled10.ipynb\n",
      "14-08-2022  11:04             1,492 Untitled2.ipynb\n",
      "14-08-2022  11:37             2,770 Untitled3.ipynb\n",
      "14-08-2022  11:42             2,027 Untitled4.ipynb\n",
      "14-08-2022  11:44             3,224 Untitled5.ipynb\n",
      "14-08-2022  13:23             6,293 Untitled6.ipynb\n",
      "06-10-2022  21:02               589 Untitled7.ipynb\n",
      "05-10-2022  09:30                72 Untitled8.ipynb\n",
      "07-10-2022  15:47               589 Untitled9.ipynb\n",
      "23-03-2021  12:37    <DIR>          Videos\n",
      "              26 File(s)    213,408,304 bytes\n",
      "              25 Dir(s)  102,771,081,216 bytes free\n"
     ]
    }
   ],
   "source": [
    "ls"
   ]
  },
  {
   "cell_type": "code",
   "execution_count": 12,
   "id": "3a4b90d6",
   "metadata": {},
   "outputs": [],
   "source": [
    "l=[1,2,3,4,5,6,7,67,6]"
   ]
  },
  {
   "cell_type": "code",
   "execution_count": 13,
   "id": "20fcced9",
   "metadata": {},
   "outputs": [],
   "source": [
    "f2=open(\"text2.txt\",\"w\")"
   ]
  },
  {
   "cell_type": "code",
   "execution_count": 14,
   "id": "da1a062e",
   "metadata": {},
   "outputs": [
    {
     "data": {
      "text/plain": [
       "28"
      ]
     },
     "execution_count": 14,
     "metadata": {},
     "output_type": "execute_result"
    }
   ],
   "source": [
    "f2.write(str(l))"
   ]
  },
  {
   "cell_type": "code",
   "execution_count": 15,
   "id": "6d4fa574",
   "metadata": {},
   "outputs": [],
   "source": [
    "f2.close()"
   ]
  },
  {
   "cell_type": "code",
   "execution_count": 17,
   "id": "53e1195a",
   "metadata": {},
   "outputs": [],
   "source": [
    "f3=open(\"test.sudh\",'w')\n",
    "f3.write(\"fgfsdhh hdghdh jjkdjk\")\n",
    "f3.close()"
   ]
  },
  {
   "cell_type": "code",
   "execution_count": 19,
   "id": "5165fd84",
   "metadata": {},
   "outputs": [
    {
     "name": "stdout",
     "output_type": "stream",
     "text": [
      "Overwriting test5.txt\n"
     ]
    }
   ],
   "source": [
    "%%writefile test5.txt\n",
    "this is my python program to write into a file in diffrent way\n",
    "this is my python program to write into a file in diffrent way\n",
    "this is my python program to write into a file in diffrent way\n",
    "this is my python program to write into a file in diffrent way\n",
    "this is my python program to write into a file in diffrent way\n",
    "this is my python program to write into a file in diffrent way\n",
    "this is my python program to write into a file in diffrent way"
   ]
  },
  {
   "cell_type": "code",
   "execution_count": 20,
   "id": "1e573399",
   "metadata": {},
   "outputs": [],
   "source": [
    "f=open(\"test5.txt\")"
   ]
  },
  {
   "cell_type": "code",
   "execution_count": 21,
   "id": "2b59a892",
   "metadata": {},
   "outputs": [
    {
     "data": {
      "text/plain": [
       "'this is my python program to write into a file in diffrent way\\nthis is my python program to write into a file in diffrent way\\nthis is my python program to write into a file in diffrent way\\nthis is my python program to write into a file in diffrent way\\nthis is my python program to write into a file in diffrent way\\nthis is my python program to write into a file in diffrent way\\nthis is my python program to write into a file in diffrent way\\n'"
      ]
     },
     "execution_count": 21,
     "metadata": {},
     "output_type": "execute_result"
    }
   ],
   "source": [
    "f.read()"
   ]
  },
  {
   "cell_type": "code",
   "execution_count": 22,
   "id": "4dcf1d0e",
   "metadata": {},
   "outputs": [
    {
     "data": {
      "text/plain": [
       "''"
      ]
     },
     "execution_count": 22,
     "metadata": {},
     "output_type": "execute_result"
    }
   ],
   "source": [
    "f.read()"
   ]
  },
  {
   "cell_type": "code",
   "execution_count": 23,
   "id": "cff7077b",
   "metadata": {},
   "outputs": [
    {
     "data": {
      "text/plain": [
       "''"
      ]
     },
     "execution_count": 23,
     "metadata": {},
     "output_type": "execute_result"
    }
   ],
   "source": [
    "f.read()"
   ]
  },
  {
   "cell_type": "code",
   "execution_count": 24,
   "id": "a70547df",
   "metadata": {},
   "outputs": [
    {
     "data": {
      "text/plain": [
       "0"
      ]
     },
     "execution_count": 24,
     "metadata": {},
     "output_type": "execute_result"
    }
   ],
   "source": [
    "f.seek(0)"
   ]
  },
  {
   "cell_type": "code",
   "execution_count": 25,
   "id": "03438871",
   "metadata": {},
   "outputs": [
    {
     "data": {
      "text/plain": [
       "'this is my python program to write into a file in diffrent way\\nthis is my python program to write into a file in diffrent way\\nthis is my python program to write into a file in diffrent way\\nthis is my python program to write into a file in diffrent way\\nthis is my python program to write into a file in diffrent way\\nthis is my python program to write into a file in diffrent way\\nthis is my python program to write into a file in diffrent way\\n'"
      ]
     },
     "execution_count": 25,
     "metadata": {},
     "output_type": "execute_result"
    }
   ],
   "source": [
    "f.read()"
   ]
  },
  {
   "cell_type": "code",
   "execution_count": 26,
   "id": "a2f538c4",
   "metadata": {},
   "outputs": [
    {
     "data": {
      "text/plain": [
       "4"
      ]
     },
     "execution_count": 26,
     "metadata": {},
     "output_type": "execute_result"
    }
   ],
   "source": [
    "f.seek(4)"
   ]
  },
  {
   "cell_type": "code",
   "execution_count": 27,
   "id": "26b62961",
   "metadata": {},
   "outputs": [
    {
     "data": {
      "text/plain": [
       "' is my python program to write into a file in diffrent way\\nthis is my python program to write into a file in diffrent way\\nthis is my python program to write into a file in diffrent way\\nthis is my python program to write into a file in diffrent way\\nthis is my python program to write into a file in diffrent way\\nthis is my python program to write into a file in diffrent way\\nthis is my python program to write into a file in diffrent way\\n'"
      ]
     },
     "execution_count": 27,
     "metadata": {},
     "output_type": "execute_result"
    }
   ],
   "source": [
    "f.read()"
   ]
  },
  {
   "cell_type": "code",
   "execution_count": 28,
   "id": "bf2175fa",
   "metadata": {},
   "outputs": [
    {
     "data": {
      "text/plain": [
       "50"
      ]
     },
     "execution_count": 28,
     "metadata": {},
     "output_type": "execute_result"
    }
   ],
   "source": [
    "f.seek(50)"
   ]
  },
  {
   "cell_type": "code",
   "execution_count": 29,
   "id": "249410cf",
   "metadata": {},
   "outputs": [
    {
     "data": {
      "text/plain": [
       "'diffrent way\\nthis is my python program to write into a file in diffrent way\\nthis is my python program to write into a file in diffrent way\\nthis is my python program to write into a file in diffrent way\\nthis is my python program to write into a file in diffrent way\\nthis is my python program to write into a file in diffrent way\\nthis is my python program to write into a file in diffrent way\\n'"
      ]
     },
     "execution_count": 29,
     "metadata": {},
     "output_type": "execute_result"
    }
   ],
   "source": [
    "f.read()"
   ]
  },
  {
   "cell_type": "code",
   "execution_count": 30,
   "id": "e16c97ae",
   "metadata": {},
   "outputs": [],
   "source": [
    "f1=open(\"test5.txt\")"
   ]
  },
  {
   "cell_type": "code",
   "execution_count": 31,
   "id": "ebb948a3",
   "metadata": {},
   "outputs": [
    {
     "data": {
      "text/plain": [
       "0"
      ]
     },
     "execution_count": 31,
     "metadata": {},
     "output_type": "execute_result"
    }
   ],
   "source": [
    "f1.tell()"
   ]
  },
  {
   "cell_type": "code",
   "execution_count": 32,
   "id": "e37f3f81",
   "metadata": {},
   "outputs": [
    {
     "data": {
      "text/plain": [
       "'this is my python program to write into a file in diffrent way\\nthis is my python program to write into a file in diffrent way\\nthis is my python program to write into a file in diffrent way\\nthis is my python program to write into a file in diffrent way\\nthis is my python program to write into a file in diffrent way\\nthis is my python program to write into a file in diffrent way\\nthis is my python program to write into a file in diffrent way\\n'"
      ]
     },
     "execution_count": 32,
     "metadata": {},
     "output_type": "execute_result"
    }
   ],
   "source": [
    "f1.read()"
   ]
  },
  {
   "cell_type": "code",
   "execution_count": 33,
   "id": "9c95663e",
   "metadata": {},
   "outputs": [
    {
     "data": {
      "text/plain": [
       "448"
      ]
     },
     "execution_count": 33,
     "metadata": {},
     "output_type": "execute_result"
    }
   ],
   "source": [
    "f1.tell()"
   ]
  },
  {
   "cell_type": "code",
   "execution_count": 34,
   "id": "6696ae4f",
   "metadata": {},
   "outputs": [
    {
     "data": {
      "text/plain": [
       "5"
      ]
     },
     "execution_count": 34,
     "metadata": {},
     "output_type": "execute_result"
    }
   ],
   "source": [
    "f1.seek(5)"
   ]
  },
  {
   "cell_type": "code",
   "execution_count": 35,
   "id": "9af9264a",
   "metadata": {},
   "outputs": [
    {
     "data": {
      "text/plain": [
       "5"
      ]
     },
     "execution_count": 35,
     "metadata": {},
     "output_type": "execute_result"
    }
   ],
   "source": [
    "f1.tell()"
   ]
  },
  {
   "cell_type": "code",
   "execution_count": 36,
   "id": "25be78a9",
   "metadata": {},
   "outputs": [
    {
     "data": {
      "text/plain": [
       "'is my python pr'"
      ]
     },
     "execution_count": 36,
     "metadata": {},
     "output_type": "execute_result"
    }
   ],
   "source": [
    "f1.read(15)"
   ]
  },
  {
   "cell_type": "code",
   "execution_count": 37,
   "id": "85df3af1",
   "metadata": {},
   "outputs": [
    {
     "data": {
      "text/plain": [
       "20"
      ]
     },
     "execution_count": 37,
     "metadata": {},
     "output_type": "execute_result"
    }
   ],
   "source": [
    "f1.tell()"
   ]
  },
  {
   "cell_type": "code",
   "execution_count": 38,
   "id": "a4ff0b40",
   "metadata": {},
   "outputs": [
    {
     "data": {
      "text/plain": [
       "'ogram to write into '"
      ]
     },
     "execution_count": 38,
     "metadata": {},
     "output_type": "execute_result"
    }
   ],
   "source": [
    "f1.read(20)"
   ]
  },
  {
   "cell_type": "code",
   "execution_count": 39,
   "id": "2cd68b9d",
   "metadata": {},
   "outputs": [],
   "source": [
    "f2=open(\"test5.txt\")"
   ]
  },
  {
   "cell_type": "code",
   "execution_count": 40,
   "id": "2951f0a9",
   "metadata": {},
   "outputs": [
    {
     "data": {
      "text/plain": [
       "'this is my python program to write into a file in diffrent way\\nthis is my python program to write into a file in diffrent way\\nthis is my python program to write into a file in diffrent way\\nthis is my python program to write into a file in diffrent way\\nthis is my python program to write into a file in diffrent way\\nthis is my python program to write into a file in diffrent way\\nthis is my python program to write into a file in diffrent way\\n'"
      ]
     },
     "execution_count": 40,
     "metadata": {},
     "output_type": "execute_result"
    }
   ],
   "source": [
    "f2.read()"
   ]
  },
  {
   "cell_type": "code",
   "execution_count": 41,
   "id": "a59e1219",
   "metadata": {},
   "outputs": [
    {
     "data": {
      "text/plain": [
       "0"
      ]
     },
     "execution_count": 41,
     "metadata": {},
     "output_type": "execute_result"
    }
   ],
   "source": [
    "f2.seek(0)"
   ]
  },
  {
   "cell_type": "code",
   "execution_count": 42,
   "id": "fa159fb1",
   "metadata": {},
   "outputs": [
    {
     "data": {
      "text/plain": [
       "'this is my python program to write into a file in diffrent way\\n'"
      ]
     },
     "execution_count": 42,
     "metadata": {},
     "output_type": "execute_result"
    }
   ],
   "source": [
    "f2.readline()"
   ]
  },
  {
   "cell_type": "code",
   "execution_count": 44,
   "id": "1cd097b7",
   "metadata": {},
   "outputs": [
    {
     "data": {
      "text/plain": [
       "['this is my python program to write into a file in diffrent way\\n',\n",
       " 'this is my python program to write into a file in diffrent way\\n',\n",
       " 'this is my python program to write into a file in diffrent way\\n',\n",
       " 'this is my python program to write into a file in diffrent way\\n',\n",
       " 'this is my python program to write into a file in diffrent way\\n',\n",
       " 'this is my python program to write into a file in diffrent way\\n']"
      ]
     },
     "execution_count": 44,
     "metadata": {},
     "output_type": "execute_result"
    }
   ],
   "source": [
    "f2.readlines()"
   ]
  },
  {
   "cell_type": "code",
   "execution_count": 45,
   "id": "1c7d0913",
   "metadata": {},
   "outputs": [
    {
     "data": {
      "text/plain": [
       "<_io.TextIOWrapper name='test5.txt' mode='r' encoding='cp1252'>"
      ]
     },
     "execution_count": 45,
     "metadata": {},
     "output_type": "execute_result"
    }
   ],
   "source": [
    "f2"
   ]
  },
  {
   "cell_type": "code",
   "execution_count": 46,
   "id": "126245fd",
   "metadata": {},
   "outputs": [
    {
     "data": {
      "text/plain": [
       "6"
      ]
     },
     "execution_count": 46,
     "metadata": {},
     "output_type": "execute_result"
    }
   ],
   "source": [
    "f2.fileno()"
   ]
  },
  {
   "cell_type": "code",
   "execution_count": 12,
   "id": "2c713dfa",
   "metadata": {},
   "outputs": [],
   "source": [
    "f=open(\"d:/test8.txt\",\"w\")"
   ]
  },
  {
   "cell_type": "code",
   "execution_count": 13,
   "id": "2f12e6bf",
   "metadata": {},
   "outputs": [
    {
     "data": {
      "text/plain": [
       "62"
      ]
     },
     "execution_count": 13,
     "metadata": {},
     "output_type": "execute_result"
    }
   ],
   "source": [
    "f.write(\"\"\"this is my python program to write into a file in diffrent way\"\"\")"
   ]
  },
  {
   "cell_type": "code",
   "execution_count": 14,
   "id": "cf34e4ff",
   "metadata": {},
   "outputs": [],
   "source": [
    "f.close()"
   ]
  },
  {
   "cell_type": "code",
   "execution_count": 12,
   "id": "9ca37b10",
   "metadata": {},
   "outputs": [],
   "source": [
    "f=open(\"test8.txt\",\"w\")"
   ]
  },
  {
   "cell_type": "code",
   "execution_count": 13,
   "id": "ec19ad30",
   "metadata": {},
   "outputs": [
    {
     "data": {
      "text/plain": [
       "22"
      ]
     },
     "execution_count": 13,
     "metadata": {},
     "output_type": "execute_result"
    }
   ],
   "source": [
    "f.write(\"this is my first class\")"
   ]
  },
  {
   "cell_type": "code",
   "execution_count": 14,
   "id": "7e645534",
   "metadata": {},
   "outputs": [],
   "source": [
    "f.close()"
   ]
  },
  {
   "cell_type": "code",
   "execution_count": 1,
   "id": "00f84f51",
   "metadata": {},
   "outputs": [],
   "source": [
    "f=open(\"test8.txt\",'a')"
   ]
  },
  {
   "cell_type": "code",
   "execution_count": 2,
   "id": "4878f841",
   "metadata": {},
   "outputs": [
    {
     "data": {
      "text/plain": [
       "23"
      ]
     },
     "execution_count": 2,
     "metadata": {},
     "output_type": "execute_result"
    }
   ],
   "source": [
    "f.write(\"this is my new data set\")"
   ]
  },
  {
   "cell_type": "code",
   "execution_count": 3,
   "id": "5a0edf2f",
   "metadata": {},
   "outputs": [],
   "source": [
    "f.close()"
   ]
  },
  {
   "cell_type": "code",
   "execution_count": 8,
   "id": "707c76fb",
   "metadata": {},
   "outputs": [
    {
     "data": {
      "text/plain": [
       "'test8.txt'"
      ]
     },
     "execution_count": 8,
     "metadata": {},
     "output_type": "execute_result"
    }
   ],
   "source": [
    "f.name"
   ]
  },
  {
   "cell_type": "code",
   "execution_count": 10,
   "id": "2d091427",
   "metadata": {},
   "outputs": [
    {
     "data": {
      "text/plain": [
       "True"
      ]
     },
     "execution_count": 10,
     "metadata": {},
     "output_type": "execute_result"
    }
   ],
   "source": [
    "f.closed"
   ]
  },
  {
   "cell_type": "code",
   "execution_count": 11,
   "id": "f5ff06b4",
   "metadata": {},
   "outputs": [
    {
     "data": {
      "text/plain": [
       "'a'"
      ]
     },
     "execution_count": 11,
     "metadata": {},
     "output_type": "execute_result"
    }
   ],
   "source": [
    "f.mode"
   ]
  },
  {
   "cell_type": "code",
   "execution_count": null,
   "id": "8b01b8a2",
   "metadata": {},
   "outputs": [],
   "source": []
  },
  {
   "cell_type": "markdown",
   "id": "2fbeb5a4",
   "metadata": {},
   "source": [
    "# map ,reduce, filter"
   ]
  },
  {
   "cell_type": "code",
   "execution_count": 15,
   "id": "6fcc3088",
   "metadata": {},
   "outputs": [],
   "source": [
    "l=[2,3,4,5,5,6]\n",
    "l1=[]\n",
    "for i in l:\n",
    "    l1.append(i**2)\n",
    "    "
   ]
  },
  {
   "cell_type": "code",
   "execution_count": 16,
   "id": "b7b1a1f6",
   "metadata": {},
   "outputs": [
    {
     "data": {
      "text/plain": [
       "[4, 9, 16, 25, 25, 36]"
      ]
     },
     "execution_count": 16,
     "metadata": {},
     "output_type": "execute_result"
    }
   ],
   "source": [
    "l1"
   ]
  },
  {
   "cell_type": "code",
   "execution_count": 17,
   "id": "29546c83",
   "metadata": {},
   "outputs": [],
   "source": [
    "def sq(n):\n",
    "    return n**2"
   ]
  },
  {
   "cell_type": "code",
   "execution_count": 19,
   "id": "3465ab1e",
   "metadata": {},
   "outputs": [
    {
     "data": {
      "text/plain": [
       "[4, 9, 16, 25, 25, 36]"
      ]
     },
     "execution_count": 19,
     "metadata": {},
     "output_type": "execute_result"
    }
   ],
   "source": [
    "list(map(sq,l))"
   ]
  },
  {
   "cell_type": "code",
   "execution_count": 20,
   "id": "3df78bf7",
   "metadata": {},
   "outputs": [
    {
     "data": {
      "text/plain": [
       "[4, 9, 16, 25, 25, 36]"
      ]
     },
     "execution_count": 20,
     "metadata": {},
     "output_type": "execute_result"
    }
   ],
   "source": [
    "list(map(lambda x:x**2,l))"
   ]
  },
  {
   "cell_type": "code",
   "execution_count": 21,
   "id": "0afc3ce2",
   "metadata": {},
   "outputs": [
    {
     "data": {
      "text/plain": [
       "[2, 3, 4, 5, 5, 6]"
      ]
     },
     "execution_count": 21,
     "metadata": {},
     "output_type": "execute_result"
    }
   ],
   "source": [
    "l"
   ]
  },
  {
   "cell_type": "code",
   "execution_count": 22,
   "id": "ecd23c1f",
   "metadata": {},
   "outputs": [
    {
     "data": {
      "text/plain": [
       "['2', '3', '4', '5', '5', '6']"
      ]
     },
     "execution_count": 22,
     "metadata": {},
     "output_type": "execute_result"
    }
   ],
   "source": [
    "list(map(lambda x:str(x),l))"
   ]
  },
  {
   "cell_type": "code",
   "execution_count": 23,
   "id": "ccfc6843",
   "metadata": {},
   "outputs": [],
   "source": [
    "def str_c(n):\n",
    "    return str(n)"
   ]
  },
  {
   "cell_type": "code",
   "execution_count": 24,
   "id": "233e4361",
   "metadata": {},
   "outputs": [
    {
     "data": {
      "text/plain": [
       "['2', '3', '4', '5', '5', '6']"
      ]
     },
     "execution_count": 24,
     "metadata": {},
     "output_type": "execute_result"
    }
   ],
   "source": [
    "list(map(str_c,l))"
   ]
  },
  {
   "cell_type": "code",
   "execution_count": 25,
   "id": "4bb5d260",
   "metadata": {},
   "outputs": [
    {
     "data": {
      "text/plain": [
       "['2', '3', '4', '5', '5', '6']"
      ]
     },
     "execution_count": 25,
     "metadata": {},
     "output_type": "execute_result"
    }
   ],
   "source": [
    "list(map(str,l))"
   ]
  },
  {
   "cell_type": "markdown",
   "id": "2f8f59fa",
   "metadata": {},
   "source": [
    "# reduce"
   ]
  },
  {
   "cell_type": "code",
   "execution_count": 30,
   "id": "0462ae9f",
   "metadata": {},
   "outputs": [],
   "source": [
    "from functools import reduce"
   ]
  },
  {
   "cell_type": "code",
   "execution_count": 31,
   "id": "919f712e",
   "metadata": {},
   "outputs": [],
   "source": [
    "l=[3,4,5,6,7,8,9]"
   ]
  },
  {
   "cell_type": "code",
   "execution_count": 32,
   "id": "fda2a1d6",
   "metadata": {},
   "outputs": [
    {
     "data": {
      "text/plain": [
       "42"
      ]
     },
     "execution_count": 32,
     "metadata": {},
     "output_type": "execute_result"
    }
   ],
   "source": [
    "sum(l)"
   ]
  },
  {
   "cell_type": "code",
   "execution_count": 34,
   "id": "f62df162",
   "metadata": {},
   "outputs": [
    {
     "data": {
      "text/plain": [
       "42"
      ]
     },
     "execution_count": 34,
     "metadata": {},
     "output_type": "execute_result"
    }
   ],
   "source": [
    "reduce(lambda a,b :a+b ,l)"
   ]
  },
  {
   "cell_type": "code",
   "execution_count": 35,
   "id": "989fa183",
   "metadata": {},
   "outputs": [],
   "source": [
    "l=[1,2,3,4,45,5]"
   ]
  },
  {
   "cell_type": "code",
   "execution_count": 37,
   "id": "bc631ed4",
   "metadata": {},
   "outputs": [
    {
     "data": {
      "text/plain": [
       "[2, 4]"
      ]
     },
     "execution_count": 37,
     "metadata": {},
     "output_type": "execute_result"
    }
   ],
   "source": [
    "list(filter(lambda x :x%2==0 ,l))"
   ]
  },
  {
   "cell_type": "code",
   "execution_count": 45,
   "id": "bc757e5e",
   "metadata": {},
   "outputs": [],
   "source": [
    "def check_even(n):\n",
    "    if n%2==0:\n",
    "        return True"
   ]
  },
  {
   "cell_type": "code",
   "execution_count": 46,
   "id": "88a65b9b",
   "metadata": {},
   "outputs": [
    {
     "data": {
      "text/plain": [
       "[2, 4]"
      ]
     },
     "execution_count": 46,
     "metadata": {},
     "output_type": "execute_result"
    }
   ],
   "source": [
    "list(filter(check_even,l))"
   ]
  },
  {
   "cell_type": "code",
   "execution_count": null,
   "id": "ee406688",
   "metadata": {},
   "outputs": [],
   "source": []
  }
 ],
 "metadata": {
  "kernelspec": {
   "display_name": "Python 3 (ipykernel)",
   "language": "python",
   "name": "python3"
  },
  "language_info": {
   "codemirror_mode": {
    "name": "ipython",
    "version": 3
   },
   "file_extension": ".py",
   "mimetype": "text/x-python",
   "name": "python",
   "nbconvert_exporter": "python",
   "pygments_lexer": "ipython3",
   "version": "3.9.12"
  }
 },
 "nbformat": 4,
 "nbformat_minor": 5
}
