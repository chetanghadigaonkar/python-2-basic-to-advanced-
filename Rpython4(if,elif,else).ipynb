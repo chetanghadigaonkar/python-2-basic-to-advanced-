{
 "cells": [
  {
   "cell_type": "code",
   "execution_count": 1,
   "id": "82f054df",
   "metadata": {},
   "outputs": [],
   "source": [
    "a=10\n",
    "if a==11:\n",
    "    print(\"this is my first condition\")"
   ]
  },
  {
   "cell_type": "code",
   "execution_count": 3,
   "id": "d5d97c07",
   "metadata": {},
   "outputs": [],
   "source": [
    "a=10\n",
    "if a>5:\n",
    "    pass"
   ]
  },
  {
   "cell_type": "code",
   "execution_count": 4,
   "id": "48216d3e",
   "metadata": {},
   "outputs": [
    {
     "name": "stdout",
     "output_type": "stream",
     "text": [
      "print this\n"
     ]
    }
   ],
   "source": [
    "a=10\n",
    "if a==11:\n",
    "    print(\"my condition is false\")\n",
    "else:\n",
    "    print(\"print this\")"
   ]
  },
  {
   "cell_type": "code",
   "execution_count": 5,
   "id": "caad318d",
   "metadata": {},
   "outputs": [
    {
     "name": "stdout",
     "output_type": "stream",
     "text": [
      "we are trying to compare 10 with 11 \n"
     ]
    }
   ],
   "source": [
    "a=10\n",
    "if a==12:\n",
    "    print(\"here we are trying to compare 10 with 12\")\n",
    "elif a==10:\n",
    "    print(\"we are trying to compare 10 with 11 \")\n",
    "else:\n",
    "    print(\"if all the blocks will fail then do this\")"
   ]
  },
  {
   "cell_type": "code",
   "execution_count": 6,
   "id": "c78f86b1",
   "metadata": {},
   "outputs": [
    {
     "name": "stdout",
     "output_type": "stream",
     "text": [
      "for sure i will be able to buy\n"
     ]
    }
   ],
   "source": [
    "price=500\n",
    "if price>500:\n",
    "    print(\"may be i want be able to buy  ajacket\")\n",
    "elif price<500:\n",
    "    print(\"i will be able to buy a jacket\")\n",
    "elif price==500:\n",
    "    print(\"for sure i will be able to buy\")\n",
    "else :\n",
    "    print(\"i dont know\")"
   ]
  },
  {
   "cell_type": "code",
   "execution_count": 7,
   "id": "6e90fec4",
   "metadata": {},
   "outputs": [
    {
     "data": {
      "text/plain": [
       "False"
      ]
     },
     "execution_count": 7,
     "metadata": {},
     "output_type": "execute_result"
    }
   ],
   "source": [
    "price>500"
   ]
  },
  {
   "cell_type": "code",
   "execution_count": 8,
   "id": "12a6c5ef",
   "metadata": {},
   "outputs": [
    {
     "data": {
      "text/plain": [
       "False"
      ]
     },
     "execution_count": 8,
     "metadata": {},
     "output_type": "execute_result"
    }
   ],
   "source": [
    "price<500"
   ]
  },
  {
   "cell_type": "code",
   "execution_count": 9,
   "id": "67366087",
   "metadata": {},
   "outputs": [
    {
     "data": {
      "text/plain": [
       "True"
      ]
     },
     "execution_count": 9,
     "metadata": {},
     "output_type": "execute_result"
    }
   ],
   "source": [
    "price==500"
   ]
  },
  {
   "cell_type": "code",
   "execution_count": 12,
   "id": "238e5e06",
   "metadata": {},
   "outputs": [
    {
     "data": {
      "text/plain": [
       "True"
      ]
     },
     "execution_count": 12,
     "metadata": {},
     "output_type": "execute_result"
    }
   ],
   "source": [
    "l=[1,2,3,4,5,6]\n",
    "2in l"
   ]
  },
  {
   "cell_type": "code",
   "execution_count": 13,
   "id": "2f8a4d5e",
   "metadata": {},
   "outputs": [
    {
     "name": "stdout",
     "output_type": "stream",
     "text": [
      "do not perform this task\n"
     ]
    }
   ],
   "source": [
    "if 60 in l:\n",
    "    print(\"try to perform a task\")\n",
    "else:\n",
    "    print(\"do not perform this task\")\n",
    "    "
   ]
  },
  {
   "cell_type": "code",
   "execution_count": 14,
   "id": "b2b1a0d2",
   "metadata": {},
   "outputs": [
    {
     "data": {
      "text/plain": [
       "False"
      ]
     },
     "execution_count": 14,
     "metadata": {},
     "output_type": "execute_result"
    }
   ],
   "source": [
    "60in l"
   ]
  },
  {
   "cell_type": "code",
   "execution_count": 15,
   "id": "d523e2dc",
   "metadata": {},
   "outputs": [
    {
     "data": {
      "text/plain": [
       "[1, 2, 3, 4, 5, 6]"
      ]
     },
     "execution_count": 15,
     "metadata": {},
     "output_type": "execute_result"
    }
   ],
   "source": [
    "l"
   ]
  },
  {
   "cell_type": "code",
   "execution_count": 16,
   "id": "70482641",
   "metadata": {},
   "outputs": [
    {
     "name": "stdout",
     "output_type": "stream",
     "text": [
      "try to do sub\n",
      "this is new statement\n"
     ]
    }
   ],
   "source": [
    "if 10 in l:\n",
    "    print(\"try to do a addition\")\n",
    "elif 2 in l:\n",
    "    print(\"try to do sub\")\n",
    "elif 3 in l:\n",
    "    print(\"try to do mul\")\n",
    "if 4 in l:\n",
    "    print(\"this is new statement\")"
   ]
  },
  {
   "cell_type": "code",
   "execution_count": 17,
   "id": "6c1edfea",
   "metadata": {},
   "outputs": [],
   "source": [
    "a=400"
   ]
  },
  {
   "cell_type": "code",
   "execution_count": 18,
   "id": "9fced21f",
   "metadata": {},
   "outputs": [
    {
     "name": "stdout",
     "output_type": "stream",
     "text": [
      "10\n"
     ]
    }
   ],
   "source": [
    "b=int(input())"
   ]
  },
  {
   "cell_type": "code",
   "execution_count": 19,
   "id": "69e9e68d",
   "metadata": {},
   "outputs": [
    {
     "data": {
      "text/plain": [
       "int"
      ]
     },
     "execution_count": 19,
     "metadata": {},
     "output_type": "execute_result"
    }
   ],
   "source": [
    "type(b)"
   ]
  },
  {
   "cell_type": "code",
   "execution_count": 27,
   "id": "228d8b87",
   "metadata": {},
   "outputs": [
    {
     "name": "stdout",
     "output_type": "stream",
     "text": [
      "600\n",
      "i wont be able to buy anything with this price tag\n",
      "lets try something else\n"
     ]
    }
   ],
   "source": [
    "price=int(input())\n",
    "if price<500:\n",
    "    print(\"i will able to buy something\")\n",
    "    if price>400:\n",
    "        print(\"i will be able to buy a jacket\")\n",
    "    elif price<300:\n",
    "        print(\"i will be able to buy a shirt\")\n",
    "        if price <200:\n",
    "            print(\"i would like to do someting\")\n",
    "    else :\n",
    "        print(\"i will be able to buy anything\")\n",
    "else:\n",
    "    print(\"i wont be able to buy anything with this price tag\")\n",
    "    if price >500:\n",
    "        print(\"lets try something else\")"
   ]
  },
  {
   "cell_type": "code",
   "execution_count": 32,
   "id": "2b414502",
   "metadata": {},
   "outputs": [
    {
     "name": "stdout",
     "output_type": "stream",
     "text": [
      "700\n",
      "you got gre congratulation\n"
     ]
    }
   ],
   "source": [
    "marks=int(input())\n",
    "if marks <600:\n",
    "    print(\"NO GRE\")\n",
    "    if marks <500:\n",
    "        print(\"TOFEL\")\n",
    "        if marks <400:\n",
    "            print(\"try something else\")\n",
    "    else:\n",
    "        print(\"you got tofel\")\n",
    "else:\n",
    "    print(\"you got gre congratulation\")"
   ]
  },
  {
   "cell_type": "code",
   "execution_count": 5,
   "id": "61ae5d0e",
   "metadata": {},
   "outputs": [
    {
     "name": "stdout",
     "output_type": "stream",
     "text": [
      "enter a floting point number-1\n",
      "entered number is anegative number\n"
     ]
    }
   ],
   "source": [
    "val=float(input(\"enter a floting point number\"))\n",
    "if val >=0:\n",
    "    if val==0:\n",
    "        print(\"entered value is zero\")\n",
    "    else:\n",
    "        print(\"enter value is apositive number\")\n",
    "else:\n",
    "    print(\"entered number is anegative number\")"
   ]
  },
  {
   "cell_type": "code",
   "execution_count": 8,
   "id": "ed1b9c58",
   "metadata": {},
   "outputs": [],
   "source": [
    "a=10\n",
    "if a<10 and a==10:\n",
    "    print(\"try to do something\")"
   ]
  },
  {
   "cell_type": "code",
   "execution_count": 11,
   "id": "c32df7a8",
   "metadata": {},
   "outputs": [
    {
     "name": "stdout",
     "output_type": "stream",
     "text": [
      "this is sudh\n"
     ]
    }
   ],
   "source": [
    "a=\"sudh\"\n",
    "if a==\"sudh\" or a==\"Sudh\":\n",
    "    print(\"this is sudh\")"
   ]
  },
  {
   "cell_type": "code",
   "execution_count": 14,
   "id": "8eeedad2",
   "metadata": {},
   "outputs": [
    {
     "name": "stdout",
     "output_type": "stream",
     "text": [
      "lets do something\n"
     ]
    }
   ],
   "source": [
    "a=10\n",
    "b=11\n",
    "c=12\n",
    "d=13\n",
    "if a==9 or b==11 and c==12 and d==13:\n",
    "    print(\"lets do something\")"
   ]
  },
  {
   "cell_type": "code",
   "execution_count": 15,
   "id": "8a0551e3",
   "metadata": {},
   "outputs": [],
   "source": [
    "d={\"key1\":\"values\",'key2':'sudh','key3':'ineuron'}"
   ]
  },
  {
   "cell_type": "code",
   "execution_count": 19,
   "id": "751ecb30",
   "metadata": {},
   "outputs": [
    {
     "name": "stdout",
     "output_type": "stream",
     "text": [
      "all the values are verified\n",
      "dict_values(['values', 'sudh', 'ineuron'])\n"
     ]
    }
   ],
   "source": [
    "if d['key1']=='values' and d['key2']=='sudh'and d['key3']==\"ineuron\":\n",
    "        print(\"all the values are verified\")\n",
    "        print(d.values())\n",
    "else:\n",
    "    print(\"all the values are not verified\")"
   ]
  },
  {
   "cell_type": "code",
   "execution_count": 20,
   "id": "0ea0641e",
   "metadata": {},
   "outputs": [
    {
     "data": {
      "text/plain": [
       "'values'"
      ]
     },
     "execution_count": 20,
     "metadata": {},
     "output_type": "execute_result"
    }
   ],
   "source": [
    "d['key1']"
   ]
  },
  {
   "cell_type": "code",
   "execution_count": 21,
   "id": "e777638e",
   "metadata": {},
   "outputs": [],
   "source": [
    "l=[1,2,3,4,5,\"sudh\",234.45]"
   ]
  },
  {
   "cell_type": "code",
   "execution_count": 22,
   "id": "a6ba10bd",
   "metadata": {},
   "outputs": [
    {
     "data": {
      "text/plain": [
       "1"
      ]
     },
     "execution_count": 22,
     "metadata": {},
     "output_type": "execute_result"
    }
   ],
   "source": [
    "l[0]"
   ]
  },
  {
   "cell_type": "code",
   "execution_count": 23,
   "id": "9b8bd2ed",
   "metadata": {},
   "outputs": [
    {
     "data": {
      "text/plain": [
       "2"
      ]
     },
     "execution_count": 23,
     "metadata": {},
     "output_type": "execute_result"
    }
   ],
   "source": [
    "l[1]"
   ]
  },
  {
   "cell_type": "code",
   "execution_count": 24,
   "id": "f49a09dd",
   "metadata": {},
   "outputs": [
    {
     "data": {
      "text/plain": [
       "[3, 4, 5]"
      ]
     },
     "execution_count": 24,
     "metadata": {},
     "output_type": "execute_result"
    }
   ],
   "source": [
    "l[2:5]"
   ]
  },
  {
   "cell_type": "code",
   "execution_count": 25,
   "id": "68db1f63",
   "metadata": {},
   "outputs": [
    {
     "data": {
      "text/plain": [
       "[1, 2, 3, 4, 5, 'sudh', 234.45]"
      ]
     },
     "execution_count": 25,
     "metadata": {},
     "output_type": "execute_result"
    }
   ],
   "source": [
    "l"
   ]
  },
  {
   "cell_type": "code",
   "execution_count": 26,
   "id": "0503ca9a",
   "metadata": {},
   "outputs": [
    {
     "name": "stdout",
     "output_type": "stream",
     "text": [
      "1\n",
      "2\n",
      "3\n",
      "4\n",
      "5\n",
      "sudh\n",
      "234.45\n"
     ]
    }
   ],
   "source": [
    "for i in l:\n",
    "    print(i)"
   ]
  },
  {
   "cell_type": "code",
   "execution_count": 28,
   "id": "c6467a29",
   "metadata": {},
   "outputs": [
    {
     "name": "stdout",
     "output_type": "stream",
     "text": [
      "2\n",
      "3\n",
      "4\n",
      "5\n",
      "6\n",
      "sudhsudh\n",
      "235.45\n"
     ]
    }
   ],
   "source": [
    "for i in l:\n",
    "    if type(i)==int or type(i)==float:\n",
    "        print(i+1)\n",
    "    elif type(i)==str:\n",
    "        print(i+str(i))"
   ]
  },
  {
   "cell_type": "code",
   "execution_count": 31,
   "id": "2cc3336a",
   "metadata": {},
   "outputs": [
    {
     "name": "stdout",
     "output_type": "stream",
     "text": [
      "9 8 7 6 5 4 3 2 10 "
     ]
    }
   ],
   "source": [
    "a=[9,8,7,6,5,4,3,2,10]\n",
    "for i in a:\n",
    "    print(i,end=\" \")"
   ]
  },
  {
   "cell_type": "code",
   "execution_count": 32,
   "id": "61624d59",
   "metadata": {},
   "outputs": [
    {
     "data": {
      "text/plain": [
       "[1, 2, 3, 4, 5, 'sudh', 234.45]"
      ]
     },
     "execution_count": 32,
     "metadata": {},
     "output_type": "execute_result"
    }
   ],
   "source": [
    "l"
   ]
  },
  {
   "cell_type": "code",
   "execution_count": 39,
   "id": "e7e3be7e",
   "metadata": {},
   "outputs": [
    {
     "name": "stdout",
     "output_type": "stream",
     "text": [
      "[1, 2, 3, 4, 5]\n"
     ]
    }
   ],
   "source": [
    "l1=[]\n",
    "for i in l:\n",
    "    if type(i)==int:\n",
    "        l1.append(i)\n",
    "print(l1)       "
   ]
  },
  {
   "cell_type": "code",
   "execution_count": 34,
   "id": "b3d19ac2",
   "metadata": {},
   "outputs": [
    {
     "data": {
      "text/plain": [
       "[1, 2, 3, 4, 5]"
      ]
     },
     "execution_count": 34,
     "metadata": {},
     "output_type": "execute_result"
    }
   ],
   "source": [
    "l1"
   ]
  },
  {
   "cell_type": "code",
   "execution_count": 40,
   "id": "d9f56199",
   "metadata": {},
   "outputs": [
    {
     "name": "stdout",
     "output_type": "stream",
     "text": [
      "2\n",
      "3\n",
      "4\n",
      "5\n",
      "6\n",
      "sudh1\n",
      "235.45\n"
     ]
    }
   ],
   "source": [
    "for a in l:\n",
    "    if type(a)==int:\n",
    "        print(a+1)\n",
    "    elif type(a)==str:\n",
    "        print(a+str(1))\n",
    "    elif type(a)==float:\n",
    "        print(a+float(1))"
   ]
  },
  {
   "cell_type": "code",
   "execution_count": 41,
   "id": "523c9970",
   "metadata": {},
   "outputs": [
    {
     "data": {
      "text/plain": [
       "[1, 2, 3, 4, 5, 'sudh', 234.45]"
      ]
     },
     "execution_count": 41,
     "metadata": {},
     "output_type": "execute_result"
    }
   ],
   "source": [
    "l"
   ]
  },
  {
   "cell_type": "code",
   "execution_count": 45,
   "id": "a96d3cc1",
   "metadata": {},
   "outputs": [
    {
     "name": "stdout",
     "output_type": "stream",
     "text": [
      "2\n",
      "3\n",
      "4\n",
      "5\n",
      "6\n",
      "sudh1\n",
      "235.45\n"
     ]
    }
   ],
   "source": [
    "for i in l:\n",
    "    if type(i)==int or type(i)==float:\n",
    "        print(i+1)\n",
    "    elif type(i)==str:\n",
    "        print(i+str(1))"
   ]
  },
  {
   "cell_type": "code",
   "execution_count": 47,
   "id": "e7354dfa",
   "metadata": {},
   "outputs": [
    {
     "ename": "AttributeError",
     "evalue": "'int' object has no attribute 'isnumeric'",
     "output_type": "error",
     "traceback": [
      "\u001b[1;31m---------------------------------------------------------------------------\u001b[0m",
      "\u001b[1;31mAttributeError\u001b[0m                            Traceback (most recent call last)",
      "Input \u001b[1;32mIn [47]\u001b[0m, in \u001b[0;36m<cell line: 2>\u001b[1;34m()\u001b[0m\n\u001b[0;32m      1\u001b[0m l\u001b[38;5;241m=\u001b[39m[\u001b[38;5;241m1\u001b[39m,\u001b[38;5;241m2\u001b[39m,\u001b[38;5;241m3\u001b[39m,\u001b[38;5;241m4\u001b[39m,\u001b[38;5;241m5\u001b[39m,\u001b[38;5;124m\"\u001b[39m\u001b[38;5;124mcar\u001b[39m\u001b[38;5;124m\"\u001b[39m,\u001b[38;5;241m5\u001b[39m,\u001b[38;5;241m6\u001b[39m,\u001b[38;5;241m7\u001b[39m]\n\u001b[0;32m      2\u001b[0m \u001b[38;5;28;01mfor\u001b[39;00m i \u001b[38;5;129;01min\u001b[39;00m l:\n\u001b[1;32m----> 3\u001b[0m     \u001b[38;5;28;01mif\u001b[39;00m \u001b[43mi\u001b[49m\u001b[38;5;241;43m.\u001b[39;49m\u001b[43misnumeric\u001b[49m():\n\u001b[0;32m      4\u001b[0m         \u001b[38;5;28mprint\u001b[39m(i)\n",
      "\u001b[1;31mAttributeError\u001b[0m: 'int' object has no attribute 'isnumeric'"
     ]
    }
   ],
   "source": [
    "l=[1,2,3,4,5,\"car\",5,6,7]\n",
    "for i in l:\n",
    "    if i.isnumeric():\n",
    "        print(i)"
   ]
  },
  {
   "cell_type": "code",
   "execution_count": null,
   "id": "8f365e21",
   "metadata": {},
   "outputs": [],
   "source": []
  }
 ],
 "metadata": {
  "kernelspec": {
   "display_name": "Python 3 (ipykernel)",
   "language": "python",
   "name": "python3"
  },
  "language_info": {
   "codemirror_mode": {
    "name": "ipython",
    "version": 3
   },
   "file_extension": ".py",
   "mimetype": "text/x-python",
   "name": "python",
   "nbconvert_exporter": "python",
   "pygments_lexer": "ipython3",
   "version": "3.9.12"
  }
 },
 "nbformat": 4,
 "nbformat_minor": 5
}
