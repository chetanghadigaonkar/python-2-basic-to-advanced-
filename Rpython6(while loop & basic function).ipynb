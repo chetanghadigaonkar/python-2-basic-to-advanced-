{
 "cells": [
  {
   "cell_type": "code",
   "execution_count": 2,
   "id": "f1f494f5",
   "metadata": {},
   "outputs": [
    {
     "name": "stdout",
     "output_type": "stream",
     "text": [
      "2\n",
      "3\n",
      "4\n",
      "5\n",
      "6\n",
      "7\n",
      "8\n",
      "9\n",
      "10\n",
      "11\n"
     ]
    }
   ],
   "source": [
    "a=1\n",
    "b=10\n",
    "\n",
    "while a<=b:\n",
    "    a=a+1\n",
    "    print(a)"
   ]
  },
  {
   "cell_type": "code",
   "execution_count": 2,
   "id": "5bc77875",
   "metadata": {},
   "outputs": [
    {
     "name": "stdout",
     "output_type": "stream",
     "text": [
      "1\n",
      "3\n",
      "5\n",
      "7\n",
      "9\n",
      "print this else block\n"
     ]
    }
   ],
   "source": [
    "a=1\n",
    "b=10\n",
    "while a<=b:\n",
    "    print(a)\n",
    "    a=a+2\n",
    "else:\n",
    "    print(\"print this else block\")"
   ]
  },
  {
   "cell_type": "code",
   "execution_count": 3,
   "id": "b7b5367d",
   "metadata": {},
   "outputs": [
    {
     "name": "stdout",
     "output_type": "stream",
     "text": [
      "1\n",
      "2\n",
      "3\n",
      "4\n",
      "5\n"
     ]
    }
   ],
   "source": [
    "a=1\n",
    "b=10\n",
    "while a<10:\n",
    "    print(a)\n",
    "    if a==5:\n",
    "        break\n",
    "    a=a+1\n",
    "else:\n",
    "    print(\"print this\")"
   ]
  },
  {
   "cell_type": "code",
   "execution_count": 4,
   "id": "54dd305e",
   "metadata": {},
   "outputs": [
    {
     "name": "stdout",
     "output_type": "stream",
     "text": [
      "1\n",
      "2\n",
      "3\n",
      "4\n",
      "5\n",
      "6\n",
      "7\n",
      "8\n",
      "9\n"
     ]
    }
   ],
   "source": [
    "a=1\n",
    "b=10\n",
    "while a<b:\n",
    "    print(a)\n",
    "    a=a+1"
   ]
  },
  {
   "cell_type": "code",
   "execution_count": 5,
   "id": "9fc10cb3",
   "metadata": {},
   "outputs": [
    {
     "name": "stdout",
     "output_type": "stream",
     "text": [
      "2\n",
      "3\n",
      "4\n",
      "5\n",
      "6\n",
      "7\n",
      "8\n",
      "9\n",
      "10\n"
     ]
    }
   ],
   "source": [
    "a=1\n",
    "b=10\n",
    "while a < b:\n",
    "    a=a+1\n",
    "    if a==3:\n",
    "        pass\n",
    "    print(a)"
   ]
  },
  {
   "cell_type": "code",
   "execution_count": 6,
   "id": "c4b110d1",
   "metadata": {},
   "outputs": [
    {
     "data": {
      "text/plain": [
       "6"
      ]
     },
     "execution_count": 6,
     "metadata": {},
     "output_type": "execute_result"
    }
   ],
   "source": [
    "l=[1,2,3,4,65,56]\n",
    "len(l)"
   ]
  },
  {
   "cell_type": "code",
   "execution_count": 7,
   "id": "e54e714c",
   "metadata": {},
   "outputs": [
    {
     "name": "stdout",
     "output_type": "stream",
     "text": [
      "1\n",
      "2\n",
      "3\n",
      "4\n",
      "65\n",
      "56\n"
     ]
    }
   ],
   "source": [
    "for i in l:\n",
    "    print(i)"
   ]
  },
  {
   "cell_type": "code",
   "execution_count": 8,
   "id": "077e6eb2",
   "metadata": {},
   "outputs": [
    {
     "name": "stdout",
     "output_type": "stream",
     "text": [
      "1\n",
      "2\n",
      "3\n",
      "4\n",
      "65\n",
      "56\n"
     ]
    }
   ],
   "source": [
    "a=0\n",
    "while a< len(l):\n",
    "    print(l[a])\n",
    "    a=a+1"
   ]
  },
  {
   "cell_type": "code",
   "execution_count": 9,
   "id": "42134a70",
   "metadata": {},
   "outputs": [],
   "source": [
    "t=(3,4,5,6,7,8,9)"
   ]
  },
  {
   "cell_type": "code",
   "execution_count": 10,
   "id": "48556545",
   "metadata": {},
   "outputs": [
    {
     "name": "stdout",
     "output_type": "stream",
     "text": [
      "3\n",
      "4\n"
     ]
    }
   ],
   "source": [
    "a=0\n",
    "while a< len(t):\n",
    "    if t[a]==6 or t[a]==7:\n",
    "        print(a)\n",
    "    a=a+1   "
   ]
  },
  {
   "cell_type": "code",
   "execution_count": 11,
   "id": "2db5de1c",
   "metadata": {},
   "outputs": [
    {
     "name": "stdout",
     "output_type": "stream",
     "text": [
      "-3\n",
      "-4\n"
     ]
    },
    {
     "ename": "IndexError",
     "evalue": "tuple index out of range",
     "output_type": "error",
     "traceback": [
      "\u001b[1;31m---------------------------------------------------------------------------\u001b[0m",
      "\u001b[1;31mIndexError\u001b[0m                                Traceback (most recent call last)",
      "Input \u001b[1;32mIn [11]\u001b[0m, in \u001b[0;36m<cell line: 2>\u001b[1;34m()\u001b[0m\n\u001b[0;32m      1\u001b[0m a\u001b[38;5;241m=\u001b[39m\u001b[38;5;241m0\u001b[39m\n\u001b[0;32m      2\u001b[0m \u001b[38;5;28;01mwhile\u001b[39;00m a\u001b[38;5;241m<\u001b[39m \u001b[38;5;28mlen\u001b[39m(t):\n\u001b[1;32m----> 3\u001b[0m     \u001b[38;5;28;01mif\u001b[39;00m \u001b[43mt\u001b[49m\u001b[43m[\u001b[49m\u001b[43ma\u001b[49m\u001b[43m]\u001b[49m\u001b[38;5;241m==\u001b[39m\u001b[38;5;241m6\u001b[39m \u001b[38;5;129;01mor\u001b[39;00m t[a]\u001b[38;5;241m==\u001b[39m\u001b[38;5;241m7\u001b[39m:\n\u001b[0;32m      4\u001b[0m         \u001b[38;5;28mprint\u001b[39m(a)\n\u001b[0;32m      5\u001b[0m     a\u001b[38;5;241m=\u001b[39ma\u001b[38;5;241m-\u001b[39m\u001b[38;5;241m1\u001b[39m\n",
      "\u001b[1;31mIndexError\u001b[0m: tuple index out of range"
     ]
    }
   ],
   "source": [
    "a=0\n",
    "while a< len(t):\n",
    "    if t[a]==6 or t[a]==7:\n",
    "        print(a)\n",
    "    a=a-1 "
   ]
  },
  {
   "cell_type": "code",
   "execution_count": null,
   "id": "6d6f140b",
   "metadata": {},
   "outputs": [],
   "source": [
    "\n",
    "a=0\n",
    "while a< len(t):\n",
    "    if t[a]==6 or t[a]==7:\n",
    "        print(a)\n",
    "    if a==-len(t):\n",
    "        break\n",
    "    a=a-1 "
   ]
  },
  {
   "cell_type": "code",
   "execution_count": 12,
   "id": "36e0defa",
   "metadata": {},
   "outputs": [
    {
     "data": {
      "text/plain": [
       "(3, 4, 5, 6, 7, 8, 9)"
      ]
     },
     "execution_count": 12,
     "metadata": {},
     "output_type": "execute_result"
    }
   ],
   "source": [
    "t"
   ]
  },
  {
   "cell_type": "code",
   "execution_count": 13,
   "id": "36f2c731",
   "metadata": {},
   "outputs": [
    {
     "name": "stdout",
     "output_type": "stream",
     "text": [
      "index of7is-3\n",
      "index of6is-4\n"
     ]
    },
    {
     "ename": "IndexError",
     "evalue": "tuple index out of range",
     "output_type": "error",
     "traceback": [
      "\u001b[1;31m---------------------------------------------------------------------------\u001b[0m",
      "\u001b[1;31mIndexError\u001b[0m                                Traceback (most recent call last)",
      "Input \u001b[1;32mIn [13]\u001b[0m, in \u001b[0;36m<cell line: 2>\u001b[1;34m()\u001b[0m\n\u001b[0;32m      1\u001b[0m i\u001b[38;5;241m=\u001b[39m\u001b[38;5;241m0\u001b[39m\n\u001b[0;32m      2\u001b[0m \u001b[38;5;28;01mwhile\u001b[39;00m \u001b[38;5;28mlen\u001b[39m(t) \u001b[38;5;241m>\u001b[39mi:\n\u001b[1;32m----> 3\u001b[0m     \u001b[38;5;28;01mif\u001b[39;00m \u001b[43mt\u001b[49m\u001b[43m[\u001b[49m\u001b[43mi\u001b[49m\u001b[43m]\u001b[49m\u001b[38;5;241m==\u001b[39m\u001b[38;5;241m6\u001b[39m \u001b[38;5;129;01mor\u001b[39;00m t[i]\u001b[38;5;241m==\u001b[39m\u001b[38;5;241m7\u001b[39m:\n\u001b[0;32m      4\u001b[0m         \u001b[38;5;28mprint\u001b[39m(\u001b[38;5;124m\"\u001b[39m\u001b[38;5;124mindex of\u001b[39m\u001b[38;5;124m\"\u001b[39m\u001b[38;5;241m+\u001b[39m\u001b[38;5;28mstr\u001b[39m(t[i])\u001b[38;5;241m+\u001b[39m\u001b[38;5;124m\"\u001b[39m\u001b[38;5;124mis\u001b[39m\u001b[38;5;124m\"\u001b[39m\u001b[38;5;241m+\u001b[39m\u001b[38;5;28mstr\u001b[39m(i))\n\u001b[0;32m      5\u001b[0m     i\u001b[38;5;241m=\u001b[39mi\u001b[38;5;241m-\u001b[39m\u001b[38;5;241m1\u001b[39m\n",
      "\u001b[1;31mIndexError\u001b[0m: tuple index out of range"
     ]
    }
   ],
   "source": [
    "i=0\n",
    "while len(t) >i:\n",
    "    if t[i]==6 or t[i]==7:\n",
    "        print(\"index of\"+str(t[i])+\"is\"+str(i))\n",
    "    i=i-1\n",
    "    "
   ]
  },
  {
   "cell_type": "code",
   "execution_count": 14,
   "id": "4c14b142",
   "metadata": {},
   "outputs": [
    {
     "data": {
      "text/plain": [
       "7"
      ]
     },
     "execution_count": 14,
     "metadata": {},
     "output_type": "execute_result"
    }
   ],
   "source": [
    "len(t)"
   ]
  },
  {
   "cell_type": "code",
   "execution_count": 15,
   "id": "45ec4662",
   "metadata": {},
   "outputs": [],
   "source": [
    "i=0\n",
    "while len(t) <i:\n",
    "    if t[i]==6 or t[i]==7:\n",
    "        print(\"index of\"+str(t[i])+\"is\"+str(i))\n",
    "    i=i-1"
   ]
  },
  {
   "cell_type": "code",
   "execution_count": 16,
   "id": "745c87ef",
   "metadata": {},
   "outputs": [
    {
     "name": "stdout",
     "output_type": "stream",
     "text": [
      "-3\n",
      "-4\n"
     ]
    }
   ],
   "source": [
    "l=[3,4,5,6,7,8,9]\n",
    "i=0\n",
    "while i< len(l):\n",
    "    if l[i]==6 or l[i]==7:\n",
    "        print(i)\n",
    "    if i==-len(l):\n",
    "        break\n",
    "    \n",
    "    i=i-1    "
   ]
  },
  {
   "cell_type": "code",
   "execution_count": 17,
   "id": "7f639588",
   "metadata": {},
   "outputs": [],
   "source": [
    "l=[3,4,5,6,7,8,9]"
   ]
  },
  {
   "cell_type": "code",
   "execution_count": 18,
   "id": "76cc80ed",
   "metadata": {},
   "outputs": [
    {
     "data": {
      "text/plain": [
       "-7"
      ]
     },
     "execution_count": 18,
     "metadata": {},
     "output_type": "execute_result"
    }
   ],
   "source": [
    "-len(l)"
   ]
  },
  {
   "cell_type": "code",
   "execution_count": 19,
   "id": "8f0817be",
   "metadata": {},
   "outputs": [],
   "source": [
    "t=(6,4,5,6,7,8,6)"
   ]
  },
  {
   "cell_type": "code",
   "execution_count": 20,
   "id": "ccc40642",
   "metadata": {},
   "outputs": [
    {
     "name": "stdout",
     "output_type": "stream",
     "text": [
      "index of  6 is -1\n",
      "index of  7 is -3\n",
      "index of  6 is -4\n",
      "index of  6 is -7\n"
     ]
    }
   ],
   "source": [
    "a=-1\n",
    "while a >=-len(t):\n",
    "    if t[a]==6 or t[a]==7:\n",
    "        print('index of ',t[a],'is',a)\n",
    "    a=a-1    "
   ]
  },
  {
   "cell_type": "code",
   "execution_count": 21,
   "id": "8f5fb7fe",
   "metadata": {},
   "outputs": [],
   "source": [
    "d={'k1':\"sudh\",\"k2\":[1,2,3,4],\"k3\":(2,3,4,5)}"
   ]
  },
  {
   "cell_type": "code",
   "execution_count": 22,
   "id": "909bc336",
   "metadata": {},
   "outputs": [
    {
     "name": "stdout",
     "output_type": "stream",
     "text": [
      "sudh\n",
      "[1, 2, 3, 4]\n",
      "(2, 3, 4, 5)\n"
     ]
    }
   ],
   "source": [
    "a=0\n",
    "b=list(d.keys())\n",
    "while a < len(d):\n",
    "    print(d[b[a]])\n",
    "    \n",
    "    a=a+1"
   ]
  },
  {
   "cell_type": "code",
   "execution_count": 23,
   "id": "ce7f73b2",
   "metadata": {},
   "outputs": [
    {
     "data": {
      "text/plain": [
       "['k1', 'k2', 'k3']"
      ]
     },
     "execution_count": 23,
     "metadata": {},
     "output_type": "execute_result"
    }
   ],
   "source": [
    "list(d.keys())"
   ]
  },
  {
   "cell_type": "code",
   "execution_count": 24,
   "id": "25ea6bbf",
   "metadata": {},
   "outputs": [
    {
     "data": {
      "text/plain": [
       "3"
      ]
     },
     "execution_count": 24,
     "metadata": {},
     "output_type": "execute_result"
    }
   ],
   "source": [
    "len(d)"
   ]
  },
  {
   "cell_type": "code",
   "execution_count": null,
   "id": "135321ba",
   "metadata": {},
   "outputs": [],
   "source": []
  },
  {
   "cell_type": "markdown",
   "id": "5a322743",
   "metadata": {},
   "source": [
    "# function"
   ]
  },
  {
   "cell_type": "code",
   "execution_count": 25,
   "id": "15e7a3a9",
   "metadata": {},
   "outputs": [],
   "source": [
    "def test():\n",
    "    print(\"this is my first function\")"
   ]
  },
  {
   "cell_type": "code",
   "execution_count": 26,
   "id": "e84e47f2",
   "metadata": {},
   "outputs": [
    {
     "name": "stdout",
     "output_type": "stream",
     "text": [
      "this is my first function\n"
     ]
    }
   ],
   "source": [
    "test()"
   ]
  },
  {
   "cell_type": "code",
   "execution_count": 27,
   "id": "97807635",
   "metadata": {},
   "outputs": [
    {
     "name": "stdout",
     "output_type": "stream",
     "text": [
      "this is my first function\n"
     ]
    },
    {
     "ename": "TypeError",
     "evalue": "unsupported operand type(s) for +: 'NoneType' and 'str'",
     "output_type": "error",
     "traceback": [
      "\u001b[1;31m---------------------------------------------------------------------------\u001b[0m",
      "\u001b[1;31mTypeError\u001b[0m                                 Traceback (most recent call last)",
      "Input \u001b[1;32mIn [27]\u001b[0m, in \u001b[0;36m<cell line: 1>\u001b[1;34m()\u001b[0m\n\u001b[1;32m----> 1\u001b[0m \u001b[43mtest\u001b[49m\u001b[43m(\u001b[49m\u001b[43m)\u001b[49m\u001b[38;5;241;43m+\u001b[39;49m\u001b[38;5;124;43m\"\u001b[39;49m\u001b[38;5;124;43msudh\u001b[39;49m\u001b[38;5;124;43m\"\u001b[39;49m\n",
      "\u001b[1;31mTypeError\u001b[0m: unsupported operand type(s) for +: 'NoneType' and 'str'"
     ]
    }
   ],
   "source": [
    "test()+\"sudh\""
   ]
  },
  {
   "cell_type": "code",
   "execution_count": 28,
   "id": "3ae114bf",
   "metadata": {},
   "outputs": [
    {
     "name": "stdout",
     "output_type": "stream",
     "text": [
      "this is my first function\n"
     ]
    },
    {
     "data": {
      "text/plain": [
       "'Nonesudh'"
      ]
     },
     "execution_count": 28,
     "metadata": {},
     "output_type": "execute_result"
    }
   ],
   "source": [
    "str(test())+\"sudh\""
   ]
  },
  {
   "cell_type": "code",
   "execution_count": 29,
   "id": "01b5628e",
   "metadata": {},
   "outputs": [
    {
     "name": "stdout",
     "output_type": "stream",
     "text": [
      "this is my first function\n"
     ]
    },
    {
     "data": {
      "text/plain": [
       "NoneType"
      ]
     },
     "execution_count": 29,
     "metadata": {},
     "output_type": "execute_result"
    }
   ],
   "source": [
    "type(test())"
   ]
  },
  {
   "cell_type": "code",
   "execution_count": 30,
   "id": "f1980696",
   "metadata": {},
   "outputs": [],
   "source": [
    "def test1():\n",
    "    return \"this is my first fun\""
   ]
  },
  {
   "cell_type": "code",
   "execution_count": 31,
   "id": "3c59f2a4",
   "metadata": {},
   "outputs": [
    {
     "data": {
      "text/plain": [
       "'this is my first fun'"
      ]
     },
     "execution_count": 31,
     "metadata": {},
     "output_type": "execute_result"
    }
   ],
   "source": [
    "test1()"
   ]
  },
  {
   "cell_type": "code",
   "execution_count": 32,
   "id": "2b772faa",
   "metadata": {},
   "outputs": [
    {
     "data": {
      "text/plain": [
       "'this is my first fun sudh'"
      ]
     },
     "execution_count": 32,
     "metadata": {},
     "output_type": "execute_result"
    }
   ],
   "source": [
    "test1()+\" sudh\""
   ]
  },
  {
   "cell_type": "code",
   "execution_count": 33,
   "id": "4102350b",
   "metadata": {},
   "outputs": [
    {
     "data": {
      "text/plain": [
       "str"
      ]
     },
     "execution_count": 33,
     "metadata": {},
     "output_type": "execute_result"
    }
   ],
   "source": [
    "type(test1())"
   ]
  },
  {
   "cell_type": "code",
   "execution_count": 34,
   "id": "447f76db",
   "metadata": {},
   "outputs": [],
   "source": [
    "def test2():\n",
    "    pass"
   ]
  },
  {
   "cell_type": "code",
   "execution_count": 35,
   "id": "c765856e",
   "metadata": {},
   "outputs": [],
   "source": [
    "def test3():\n",
    "    return 1,3,5,[1,2,3,4,54,5]"
   ]
  },
  {
   "cell_type": "code",
   "execution_count": 36,
   "id": "304ab19c",
   "metadata": {},
   "outputs": [],
   "source": [
    "a=test3()"
   ]
  },
  {
   "cell_type": "code",
   "execution_count": 37,
   "id": "b5618417",
   "metadata": {},
   "outputs": [
    {
     "data": {
      "text/plain": [
       "(1, 3, 5, [1, 2, 3, 4, 54, 5])"
      ]
     },
     "execution_count": 37,
     "metadata": {},
     "output_type": "execute_result"
    }
   ],
   "source": [
    "a"
   ]
  },
  {
   "cell_type": "code",
   "execution_count": 38,
   "id": "0db4364b",
   "metadata": {},
   "outputs": [],
   "source": [
    "a=10\n",
    "b=20\n",
    "c=30"
   ]
  },
  {
   "cell_type": "code",
   "execution_count": 39,
   "id": "bde652f9",
   "metadata": {},
   "outputs": [
    {
     "ename": "ValueError",
     "evalue": "too many values to unpack (expected 5)",
     "output_type": "error",
     "traceback": [
      "\u001b[1;31m---------------------------------------------------------------------------\u001b[0m",
      "\u001b[1;31mValueError\u001b[0m                                Traceback (most recent call last)",
      "Input \u001b[1;32mIn [39]\u001b[0m, in \u001b[0;36m<cell line: 1>\u001b[1;34m()\u001b[0m\n\u001b[1;32m----> 1\u001b[0m a,b,c,_,t\u001b[38;5;241m=\u001b[39m(\u001b[38;5;241m23\u001b[39m,\u001b[38;5;241m45\u001b[39m,\u001b[38;5;241m56\u001b[39m,\u001b[38;5;241m657\u001b[39m,\u001b[38;5;241m676\u001b[39m,\u001b[38;5;241m76\u001b[39m,\u001b[38;5;241m7\u001b[39m,\u001b[38;5;241m67\u001b[39m,\u001b[38;5;241m6\u001b[39m)\n",
      "\u001b[1;31mValueError\u001b[0m: too many values to unpack (expected 5)"
     ]
    }
   ],
   "source": [
    "a,b,c,_,t=(23,45,56,657,676,76,7,67,6)"
   ]
  },
  {
   "cell_type": "code",
   "execution_count": 40,
   "id": "0ef50a57",
   "metadata": {},
   "outputs": [],
   "source": [
    "a,b,c,d=test3()"
   ]
  },
  {
   "cell_type": "code",
   "execution_count": 41,
   "id": "6565e483",
   "metadata": {},
   "outputs": [
    {
     "data": {
      "text/plain": [
       "1"
      ]
     },
     "execution_count": 41,
     "metadata": {},
     "output_type": "execute_result"
    }
   ],
   "source": [
    "a"
   ]
  },
  {
   "cell_type": "code",
   "execution_count": 42,
   "id": "e10bb63f",
   "metadata": {},
   "outputs": [
    {
     "data": {
      "text/plain": [
       "3"
      ]
     },
     "execution_count": 42,
     "metadata": {},
     "output_type": "execute_result"
    }
   ],
   "source": [
    "b"
   ]
  },
  {
   "cell_type": "code",
   "execution_count": 43,
   "id": "a8fc607d",
   "metadata": {},
   "outputs": [
    {
     "data": {
      "text/plain": [
       "5"
      ]
     },
     "execution_count": 43,
     "metadata": {},
     "output_type": "execute_result"
    }
   ],
   "source": [
    "c"
   ]
  },
  {
   "cell_type": "code",
   "execution_count": 44,
   "id": "5e711edd",
   "metadata": {},
   "outputs": [
    {
     "data": {
      "text/plain": [
       "[1, 2, 3, 4, 54, 5]"
      ]
     },
     "execution_count": 44,
     "metadata": {},
     "output_type": "execute_result"
    }
   ],
   "source": [
    "d"
   ]
  },
  {
   "cell_type": "code",
   "execution_count": 45,
   "id": "98793417",
   "metadata": {},
   "outputs": [],
   "source": [
    "def test4():\n",
    "    a=4*5\n",
    "    b=6+4\n",
    "    return a,b"
   ]
  },
  {
   "cell_type": "code",
   "execution_count": 46,
   "id": "830ecc7b",
   "metadata": {},
   "outputs": [],
   "source": [
    "g=test4()"
   ]
  },
  {
   "cell_type": "code",
   "execution_count": 47,
   "id": "38652673",
   "metadata": {},
   "outputs": [
    {
     "data": {
      "text/plain": [
       "(20, 10)"
      ]
     },
     "execution_count": 47,
     "metadata": {},
     "output_type": "execute_result"
    }
   ],
   "source": [
    "g"
   ]
  },
  {
   "cell_type": "code",
   "execution_count": 48,
   "id": "b0b2bbb4",
   "metadata": {},
   "outputs": [],
   "source": [
    "j,k=test4()"
   ]
  },
  {
   "cell_type": "code",
   "execution_count": 49,
   "id": "30111949",
   "metadata": {},
   "outputs": [
    {
     "data": {
      "text/plain": [
       "20"
      ]
     },
     "execution_count": 49,
     "metadata": {},
     "output_type": "execute_result"
    }
   ],
   "source": [
    "j"
   ]
  },
  {
   "cell_type": "code",
   "execution_count": 50,
   "id": "d50745b3",
   "metadata": {},
   "outputs": [
    {
     "data": {
      "text/plain": [
       "10"
      ]
     },
     "execution_count": 50,
     "metadata": {},
     "output_type": "execute_result"
    }
   ],
   "source": [
    "k"
   ]
  },
  {
   "cell_type": "code",
   "execution_count": 51,
   "id": "6700816b",
   "metadata": {},
   "outputs": [],
   "source": [
    "_,m=test4()"
   ]
  },
  {
   "cell_type": "code",
   "execution_count": 52,
   "id": "edb2f87d",
   "metadata": {},
   "outputs": [
    {
     "data": {
      "text/plain": [
       "20"
      ]
     },
     "execution_count": 52,
     "metadata": {},
     "output_type": "execute_result"
    }
   ],
   "source": [
    "_"
   ]
  },
  {
   "cell_type": "code",
   "execution_count": 53,
   "id": "5b894e30",
   "metadata": {},
   "outputs": [
    {
     "data": {
      "text/plain": [
       "10"
      ]
     },
     "execution_count": 53,
     "metadata": {},
     "output_type": "execute_result"
    }
   ],
   "source": [
    "m"
   ]
  },
  {
   "cell_type": "code",
   "execution_count": 54,
   "id": "471fe180",
   "metadata": {},
   "outputs": [
    {
     "data": {
      "text/plain": [
       "(1, 3, 5, [1, 2, 3, 4, 54, 5])"
      ]
     },
     "execution_count": 54,
     "metadata": {},
     "output_type": "execute_result"
    }
   ],
   "source": [
    "test3()"
   ]
  },
  {
   "cell_type": "code",
   "execution_count": 55,
   "id": "d0aa97b2",
   "metadata": {},
   "outputs": [],
   "source": [
    "_,_,_,g=test3()"
   ]
  },
  {
   "cell_type": "code",
   "execution_count": 56,
   "id": "4dac2f9d",
   "metadata": {},
   "outputs": [
    {
     "data": {
      "text/plain": [
       "[1, 2, 3, 4, 54, 5]"
      ]
     },
     "execution_count": 56,
     "metadata": {},
     "output_type": "execute_result"
    }
   ],
   "source": [
    "g"
   ]
  },
  {
   "cell_type": "code",
   "execution_count": 57,
   "id": "000c755e",
   "metadata": {},
   "outputs": [
    {
     "data": {
      "text/plain": [
       "5"
      ]
     },
     "execution_count": 57,
     "metadata": {},
     "output_type": "execute_result"
    }
   ],
   "source": [
    "_"
   ]
  },
  {
   "cell_type": "code",
   "execution_count": 58,
   "id": "7b14dcc7",
   "metadata": {},
   "outputs": [
    {
     "name": "stdout",
     "output_type": "stream",
     "text": [
      "1\n",
      "3\n",
      "5\n",
      "7\n",
      "9\n",
      "print this else block\n"
     ]
    }
   ],
   "source": [
    "a=1\n",
    "b=10\n",
    "while a <=b:\n",
    "    print(a)\n",
    "    a=a+2\n",
    "else :\n",
    "    print(\"print this else block\")"
   ]
  },
  {
   "cell_type": "code",
   "execution_count": 59,
   "id": "6a6bc2fe",
   "metadata": {},
   "outputs": [],
   "source": [
    "def test5():\n",
    "    a=1\n",
    "    b=10\n",
    "    while a <=b:\n",
    "       print(a)\n",
    "       a=a+2\n",
    "    else :\n",
    "       print(\"print this else block\")"
   ]
  },
  {
   "cell_type": "code",
   "execution_count": 60,
   "id": "fdf90ec3",
   "metadata": {},
   "outputs": [
    {
     "name": "stdout",
     "output_type": "stream",
     "text": [
      "1\n",
      "3\n",
      "5\n",
      "7\n",
      "9\n",
      "print this else block\n"
     ]
    }
   ],
   "source": [
    "test5()"
   ]
  },
  {
   "cell_type": "code",
   "execution_count": 61,
   "id": "ae1c347e",
   "metadata": {},
   "outputs": [
    {
     "name": "stdout",
     "output_type": "stream",
     "text": [
      "1\n",
      "3\n",
      "5\n",
      "7\n",
      "9\n",
      "print this else block\n"
     ]
    }
   ],
   "source": [
    "test5()"
   ]
  },
  {
   "cell_type": "code",
   "execution_count": 62,
   "id": "b62f0c88",
   "metadata": {},
   "outputs": [
    {
     "name": "stdout",
     "output_type": "stream",
     "text": [
      "1\n",
      "3\n",
      "5\n",
      "7\n",
      "9\n",
      "print this else block\n"
     ]
    }
   ],
   "source": [
    "test5()"
   ]
  },
  {
   "cell_type": "code",
   "execution_count": 63,
   "id": "e47d50f4",
   "metadata": {},
   "outputs": [],
   "source": [
    "def test5(a,b):\n",
    "    l=[]\n",
    "    while a<=b:\n",
    "        print(a)\n",
    "        l.append(a)\n",
    "        a=a+2\n",
    "    else:\n",
    "        print(\"print this else block\")\n",
    "    return l    "
   ]
  },
  {
   "cell_type": "code",
   "execution_count": 64,
   "id": "a188726f",
   "metadata": {},
   "outputs": [
    {
     "name": "stdout",
     "output_type": "stream",
     "text": [
      "1\n",
      "3\n",
      "5\n",
      "7\n",
      "9\n",
      "print this else block\n"
     ]
    },
    {
     "data": {
      "text/plain": [
       "[1, 3, 5, 7, 9]"
      ]
     },
     "execution_count": 64,
     "metadata": {},
     "output_type": "execute_result"
    }
   ],
   "source": [
    "test5(1,10)"
   ]
  },
  {
   "cell_type": "code",
   "execution_count": 65,
   "id": "9ed717e4",
   "metadata": {},
   "outputs": [
    {
     "name": "stdout",
     "output_type": "stream",
     "text": [
      "print this else block\n"
     ]
    },
    {
     "data": {
      "text/plain": [
       "list"
      ]
     },
     "execution_count": 65,
     "metadata": {},
     "output_type": "execute_result"
    }
   ],
   "source": [
    "type(test5(30,2))"
   ]
  },
  {
   "cell_type": "code",
   "execution_count": 66,
   "id": "6614a94f",
   "metadata": {},
   "outputs": [],
   "source": [
    "l=[4,5,6,67,7,8,8,9,9,9,[3,4,5,6,7,7],\"sudh\"]"
   ]
  },
  {
   "cell_type": "code",
   "execution_count": 67,
   "id": "abe18359",
   "metadata": {},
   "outputs": [
    {
     "name": "stdout",
     "output_type": "stream",
     "text": [
      "[4, 5, 6, 67, 7, 8, 8, 9, 9, 9]\n"
     ]
    }
   ],
   "source": [
    "l1=[]\n",
    "for i in l:\n",
    "    if type(i)==int:\n",
    "        l1.append(i)\n",
    "print(l1)         "
   ]
  },
  {
   "cell_type": "code",
   "execution_count": 68,
   "id": "3445d24a",
   "metadata": {},
   "outputs": [],
   "source": [
    "def test7():\n",
    "    l1=[]\n",
    "    for i in l:\n",
    "        if type(i)==int:\n",
    "            l1.append(i)\n",
    "    return l1       "
   ]
  },
  {
   "cell_type": "code",
   "execution_count": 69,
   "id": "1198037c",
   "metadata": {},
   "outputs": [
    {
     "data": {
      "text/plain": [
       "[4, 5, 6, 67, 7, 8, 8, 9, 9, 9]"
      ]
     },
     "execution_count": 69,
     "metadata": {},
     "output_type": "execute_result"
    }
   ],
   "source": [
    "test7()"
   ]
  },
  {
   "cell_type": "code",
   "execution_count": 70,
   "id": "c340a799",
   "metadata": {},
   "outputs": [],
   "source": [
    "l3=[345,45,5,5,6,5,\"sudh\",(4,6,6)]"
   ]
  },
  {
   "cell_type": "code",
   "execution_count": 71,
   "id": "27df35c0",
   "metadata": {},
   "outputs": [],
   "source": [
    "def test7(l):\n",
    "    l1=[]\n",
    "    for i in l:\n",
    "        if type(i)==int:\n",
    "            l1.append(i)\n",
    "    return l1  \n",
    "    "
   ]
  },
  {
   "cell_type": "code",
   "execution_count": 72,
   "id": "99bd1733",
   "metadata": {},
   "outputs": [
    {
     "data": {
      "text/plain": [
       "[345, 45, 5, 5, 6, 5]"
      ]
     },
     "execution_count": 72,
     "metadata": {},
     "output_type": "execute_result"
    }
   ],
   "source": [
    "test7(l3)"
   ]
  },
  {
   "cell_type": "code",
   "execution_count": null,
   "id": "083876a9",
   "metadata": {},
   "outputs": [],
   "source": [
    "t=(3,4,5,6,67,7,87)\n",
    "a=-1\n",
    "while a>=-len(t):\n",
    "    if t[a]==6 or t[a]==7:\n",
    "        print('index of ',t[a],'is',a)\n",
    "        a=a-1"
   ]
  },
  {
   "cell_type": "code",
   "execution_count": null,
   "id": "b5bd17e7",
   "metadata": {},
   "outputs": [],
   "source": [
    "def test8(t):\n",
    "    a=-1\n",
    "    while a>=-len(t):\n",
    "        if t[a]==6 or t[a]==7:\n",
    "            print('index of ',t[a],'is',a)\n",
    "            a=a-1"
   ]
  },
  {
   "cell_type": "code",
   "execution_count": null,
   "id": "866f2cbe",
   "metadata": {},
   "outputs": [],
   "source": [
    "t=(3,4,5,6,67,7,87)"
   ]
  },
  {
   "cell_type": "code",
   "execution_count": null,
   "id": "f326b545",
   "metadata": {},
   "outputs": [],
   "source": [
    "test8(t)"
   ]
  },
  {
   "cell_type": "code",
   "execution_count": null,
   "id": "a3abe052",
   "metadata": {},
   "outputs": [],
   "source": [
    "test(3,4,4,6,6,7,7,7,88)"
   ]
  },
  {
   "cell_type": "code",
   "execution_count": null,
   "id": "ea8dd3a2",
   "metadata": {},
   "outputs": [],
   "source": []
  }
 ],
 "metadata": {
  "kernelspec": {
   "display_name": "Python 3 (ipykernel)",
   "language": "python",
   "name": "python3"
  },
  "language_info": {
   "codemirror_mode": {
    "name": "ipython",
    "version": 3
   },
   "file_extension": ".py",
   "mimetype": "text/x-python",
   "name": "python",
   "nbconvert_exporter": "python",
   "pygments_lexer": "ipython3",
   "version": "3.9.12"
  }
 },
 "nbformat": 4,
 "nbformat_minor": 5
}
