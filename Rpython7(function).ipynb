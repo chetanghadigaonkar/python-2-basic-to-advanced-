{
 "cells": [
  {
   "cell_type": "code",
   "execution_count": 1,
   "id": "d63891f2",
   "metadata": {},
   "outputs": [],
   "source": [
    "def test(a,b):\n",
    "    \"this is my function for concatination or addition\"\n",
    "    return a+b"
   ]
  },
  {
   "cell_type": "code",
   "execution_count": 2,
   "id": "bf554ce5",
   "metadata": {},
   "outputs": [
    {
     "data": {
      "text/plain": [
       "10"
      ]
     },
     "execution_count": 2,
     "metadata": {},
     "output_type": "execute_result"
    }
   ],
   "source": [
    "test(4,6)"
   ]
  },
  {
   "cell_type": "code",
   "execution_count": 4,
   "id": "bc0415a0",
   "metadata": {},
   "outputs": [
    {
     "data": {
      "text/plain": [
       "'sudhkumar'"
      ]
     },
     "execution_count": 4,
     "metadata": {},
     "output_type": "execute_result"
    }
   ],
   "source": [
    "test(\"sudh\",\"kumar\")"
   ]
  },
  {
   "cell_type": "code",
   "execution_count": 5,
   "id": "3249dc33",
   "metadata": {},
   "outputs": [
    {
     "data": {
      "text/plain": [
       "15"
      ]
     },
     "execution_count": 5,
     "metadata": {},
     "output_type": "execute_result"
    }
   ],
   "source": [
    "test(a=9,b=6)"
   ]
  },
  {
   "cell_type": "code",
   "execution_count": 6,
   "id": "7ce985d8",
   "metadata": {},
   "outputs": [
    {
     "data": {
      "text/plain": [
       "48"
      ]
     },
     "execution_count": 6,
     "metadata": {},
     "output_type": "execute_result"
    }
   ],
   "source": [
    "test(b=45,a=3)"
   ]
  },
  {
   "cell_type": "code",
   "execution_count": 7,
   "id": "ec969670",
   "metadata": {},
   "outputs": [
    {
     "name": "stdout",
     "output_type": "stream",
     "text": [
      "\n"
     ]
    }
   ],
   "source": [
    "print()"
   ]
  },
  {
   "cell_type": "code",
   "execution_count": 8,
   "id": "cf8e6a4e",
   "metadata": {},
   "outputs": [],
   "source": [
    "def test1(a,b,c,d,e):\n",
    "    return a,b,c,d,e"
   ]
  },
  {
   "cell_type": "code",
   "execution_count": 9,
   "id": "cc366e5b",
   "metadata": {},
   "outputs": [
    {
     "ename": "TypeError",
     "evalue": "test1() missing 1 required positional argument: 'e'",
     "output_type": "error",
     "traceback": [
      "\u001b[1;31m---------------------------------------------------------------------------\u001b[0m",
      "\u001b[1;31mTypeError\u001b[0m                                 Traceback (most recent call last)",
      "Input \u001b[1;32mIn [9]\u001b[0m, in \u001b[0;36m<cell line: 1>\u001b[1;34m()\u001b[0m\n\u001b[1;32m----> 1\u001b[0m \u001b[43mtest1\u001b[49m\u001b[43m(\u001b[49m\u001b[38;5;241;43m3\u001b[39;49m\u001b[43m,\u001b[49m\u001b[38;5;241;43m4\u001b[39;49m\u001b[43m,\u001b[49m\u001b[38;5;241;43m5\u001b[39;49m\u001b[43m,\u001b[49m\u001b[38;5;241;43m6\u001b[39;49m\u001b[43m)\u001b[49m\n",
      "\u001b[1;31mTypeError\u001b[0m: test1() missing 1 required positional argument: 'e'"
     ]
    }
   ],
   "source": [
    "test1(3,4,5,6)"
   ]
  },
  {
   "cell_type": "code",
   "execution_count": 10,
   "id": "8122a12f",
   "metadata": {},
   "outputs": [],
   "source": [
    "def test(*a~):\n",
    "    return a"
   ]
  },
  {
   "cell_type": "code",
   "execution_count": 11,
   "id": "6ae9604b",
   "metadata": {},
   "outputs": [
    {
     "data": {
      "text/plain": [
       "(34, 56)"
      ]
     },
     "execution_count": 11,
     "metadata": {},
     "output_type": "execute_result"
    }
   ],
   "source": [
    "test(34,56)"
   ]
  },
  {
   "cell_type": "code",
   "execution_count": 12,
   "id": "37982127",
   "metadata": {},
   "outputs": [
    {
     "data": {
      "text/plain": [
       "(2, 3, 4, 4)"
      ]
     },
     "execution_count": 12,
     "metadata": {},
     "output_type": "execute_result"
    }
   ],
   "source": [
    "test(2,3,4,4)"
   ]
  },
  {
   "cell_type": "code",
   "execution_count": 13,
   "id": "3af66a8d",
   "metadata": {},
   "outputs": [
    {
     "data": {
      "text/plain": [
       "(4, 5, 6, 6, 6, [3, 4, 5, 5, 5, 6])"
      ]
     },
     "execution_count": 13,
     "metadata": {},
     "output_type": "execute_result"
    }
   ],
   "source": [
    "test(4,5,6,6,6,[3,4,5,5,5,6])"
   ]
  },
  {
   "cell_type": "code",
   "execution_count": 15,
   "id": "46958054",
   "metadata": {},
   "outputs": [],
   "source": [
    "def test4(*args):\n",
    "    return args"
   ]
  },
  {
   "cell_type": "code",
   "execution_count": 16,
   "id": "f0efa34d",
   "metadata": {},
   "outputs": [
    {
     "data": {
      "text/plain": [
       "(34, 56, 6, 76, 7)"
      ]
     },
     "execution_count": 16,
     "metadata": {},
     "output_type": "execute_result"
    }
   ],
   "source": [
    "test4(34,56,6,76,7)"
   ]
  },
  {
   "cell_type": "code",
   "execution_count": 19,
   "id": "becf65fd",
   "metadata": {},
   "outputs": [],
   "source": [
    "def test5(*a):\n",
    "    l=[]\n",
    "    for i in a :\n",
    "        l.append(i)\n",
    "    return l"
   ]
  },
  {
   "cell_type": "code",
   "execution_count": 20,
   "id": "1082c41f",
   "metadata": {},
   "outputs": [
    {
     "data": {
      "text/plain": [
       "[2, 3, 4, 45, 5, [345, 56, 5, 6]]"
      ]
     },
     "execution_count": 20,
     "metadata": {},
     "output_type": "execute_result"
    }
   ],
   "source": [
    "test5(2,3,4,45,5,[345,56,5,6])"
   ]
  },
  {
   "cell_type": "code",
   "execution_count": 21,
   "id": "b970d780",
   "metadata": {},
   "outputs": [
    {
     "data": {
      "text/plain": [
       "[3, 4, 5, 56]"
      ]
     },
     "execution_count": 21,
     "metadata": {},
     "output_type": "execute_result"
    }
   ],
   "source": [
    "test5(3,4,5,56)"
   ]
  },
  {
   "cell_type": "code",
   "execution_count": 23,
   "id": "0a269b10",
   "metadata": {},
   "outputs": [],
   "source": [
    "def test6(a,b,c,d, *m):\n",
    "    return a,b,c,d,m"
   ]
  },
  {
   "cell_type": "code",
   "execution_count": 24,
   "id": "27e105f3",
   "metadata": {},
   "outputs": [
    {
     "data": {
      "text/plain": [
       "(3, 4, 5, 5, (6, 6, 7, 7, 8, 8))"
      ]
     },
     "execution_count": 24,
     "metadata": {},
     "output_type": "execute_result"
    }
   ],
   "source": [
    "test6(3,4,5,5,6,6,7,7,8,8)"
   ]
  },
  {
   "cell_type": "code",
   "execution_count": 28,
   "id": "05d07358",
   "metadata": {},
   "outputs": [
    {
     "data": {
      "text/plain": [
       "(4, 5, 65, 6, (6, 7, 7, 56, 67, 34, 54, 67, 78))"
      ]
     },
     "execution_count": 28,
     "metadata": {},
     "output_type": "execute_result"
    }
   ],
   "source": [
    "test6(4,5,65,6,6,7,7,56,67,34,54,67,78)"
   ]
  },
  {
   "cell_type": "code",
   "execution_count": 25,
   "id": "286a2a2f",
   "metadata": {},
   "outputs": [],
   "source": [
    "def test7(*m,a,b,c,d,e):\n",
    "    return m,a,b,c,d,e"
   ]
  },
  {
   "cell_type": "code",
   "execution_count": 26,
   "id": "248a1a9b",
   "metadata": {},
   "outputs": [
    {
     "ename": "TypeError",
     "evalue": "test7() missing 5 required keyword-only arguments: 'a', 'b', 'c', 'd', and 'e'",
     "output_type": "error",
     "traceback": [
      "\u001b[1;31m---------------------------------------------------------------------------\u001b[0m",
      "\u001b[1;31mTypeError\u001b[0m                                 Traceback (most recent call last)",
      "Input \u001b[1;32mIn [26]\u001b[0m, in \u001b[0;36m<cell line: 1>\u001b[1;34m()\u001b[0m\n\u001b[1;32m----> 1\u001b[0m \u001b[43mtest7\u001b[49m\u001b[43m(\u001b[49m\u001b[38;5;241;43m4\u001b[39;49m\u001b[43m,\u001b[49m\u001b[38;5;241;43m5\u001b[39;49m\u001b[43m,\u001b[49m\u001b[38;5;241;43m65\u001b[39;49m\u001b[43m,\u001b[49m\u001b[38;5;241;43m6\u001b[39;49m\u001b[43m,\u001b[49m\u001b[38;5;241;43m6\u001b[39;49m\u001b[43m,\u001b[49m\u001b[38;5;241;43m7\u001b[39;49m\u001b[43m,\u001b[49m\u001b[38;5;241;43m7\u001b[39;49m\u001b[43m,\u001b[49m\u001b[38;5;241;43m56\u001b[39;49m\u001b[43m,\u001b[49m\u001b[38;5;241;43m67\u001b[39;49m\u001b[43m,\u001b[49m\u001b[38;5;241;43m34\u001b[39;49m\u001b[43m,\u001b[49m\u001b[38;5;241;43m54\u001b[39;49m\u001b[43m,\u001b[49m\u001b[38;5;241;43m67\u001b[39;49m\u001b[43m,\u001b[49m\u001b[38;5;241;43m78\u001b[39;49m\u001b[43m)\u001b[49m\n",
      "\u001b[1;31mTypeError\u001b[0m: test7() missing 5 required keyword-only arguments: 'a', 'b', 'c', 'd', and 'e'"
     ]
    }
   ],
   "source": [
    "test7(4,5,65,6,6,7,7,56,67,34,54,67,78)"
   ]
  },
  {
   "cell_type": "code",
   "execution_count": 27,
   "id": "b0444227",
   "metadata": {},
   "outputs": [
    {
     "data": {
      "text/plain": [
       "((4, 5, 65, 6, 6, 7, 7, 56), 67, 34, 54, 67, 78)"
      ]
     },
     "execution_count": 27,
     "metadata": {},
     "output_type": "execute_result"
    }
   ],
   "source": [
    "test7(4,5,65,6,6,7,7,56,a=67,b=34,c=54,d=67,e=78)"
   ]
  },
  {
   "cell_type": "code",
   "execution_count": 29,
   "id": "ad33b5e4",
   "metadata": {},
   "outputs": [],
   "source": [
    "def test8(**sudh):\n",
    "    return sudh"
   ]
  },
  {
   "cell_type": "code",
   "execution_count": 30,
   "id": "b0fae6ac",
   "metadata": {},
   "outputs": [
    {
     "ename": "TypeError",
     "evalue": "test8() takes 0 positional arguments but 5 were given",
     "output_type": "error",
     "traceback": [
      "\u001b[1;31m---------------------------------------------------------------------------\u001b[0m",
      "\u001b[1;31mTypeError\u001b[0m                                 Traceback (most recent call last)",
      "Input \u001b[1;32mIn [30]\u001b[0m, in \u001b[0;36m<cell line: 1>\u001b[1;34m()\u001b[0m\n\u001b[1;32m----> 1\u001b[0m \u001b[43mtest8\u001b[49m\u001b[43m(\u001b[49m\u001b[38;5;241;43m4\u001b[39;49m\u001b[43m,\u001b[49m\u001b[38;5;241;43m5\u001b[39;49m\u001b[43m,\u001b[49m\u001b[38;5;241;43m6\u001b[39;49m\u001b[43m,\u001b[49m\u001b[38;5;241;43m6\u001b[39;49m\u001b[43m,\u001b[49m\u001b[38;5;241;43m24562\u001b[39;49m\u001b[43m)\u001b[49m\n",
      "\u001b[1;31mTypeError\u001b[0m: test8() takes 0 positional arguments but 5 were given"
     ]
    }
   ],
   "source": [
    "test8(4,5,6,6,24562)"
   ]
  },
  {
   "cell_type": "code",
   "execution_count": 31,
   "id": "3bb958bf",
   "metadata": {},
   "outputs": [
    {
     "data": {
      "text/plain": [
       "{'b': 4, 'c': 5, 'd': 6, 'e': 6, 'n': [3, 4, 45, 5, 6, 6, 6]}"
      ]
     },
     "execution_count": 31,
     "metadata": {},
     "output_type": "execute_result"
    }
   ],
   "source": [
    "test8(b=4,c=5,d=6,e=6,n=[3,4,45,5,6,6,6])"
   ]
  },
  {
   "cell_type": "code",
   "execution_count": 35,
   "id": "67241688",
   "metadata": {},
   "outputs": [],
   "source": [
    "def test11(*m):\n",
    "    n=1\n",
    "    for i in m:\n",
    "        if type(i)==int:\n",
    "            n=n*i\n",
    "    return n    "
   ]
  },
  {
   "cell_type": "code",
   "execution_count": 37,
   "id": "4338ec6f",
   "metadata": {},
   "outputs": [
    {
     "data": {
      "text/plain": [
       "40320"
      ]
     },
     "execution_count": 37,
     "metadata": {},
     "output_type": "execute_result"
    }
   ],
   "source": [
    "test11(2,3,4,5,6,7,8)"
   ]
  },
  {
   "cell_type": "code",
   "execution_count": 38,
   "id": "0f323eb7",
   "metadata": {},
   "outputs": [
    {
     "data": {
      "text/plain": [
       "24"
      ]
     },
     "execution_count": 38,
     "metadata": {},
     "output_type": "execute_result"
    }
   ],
   "source": [
    "test11(2,3,4)"
   ]
  },
  {
   "cell_type": "code",
   "execution_count": 39,
   "id": "4f5f6b0e",
   "metadata": {},
   "outputs": [],
   "source": [
    "d={\"b\":4,\"c\":5,\"d\":6,\"e\":6}"
   ]
  },
  {
   "cell_type": "code",
   "execution_count": 40,
   "id": "6c9269cf",
   "metadata": {},
   "outputs": [
    {
     "ename": "TypeError",
     "evalue": "test8() takes 0 positional arguments but 1 was given",
     "output_type": "error",
     "traceback": [
      "\u001b[1;31m---------------------------------------------------------------------------\u001b[0m",
      "\u001b[1;31mTypeError\u001b[0m                                 Traceback (most recent call last)",
      "Input \u001b[1;32mIn [40]\u001b[0m, in \u001b[0;36m<cell line: 1>\u001b[1;34m()\u001b[0m\n\u001b[1;32m----> 1\u001b[0m \u001b[43mtest8\u001b[49m\u001b[43m(\u001b[49m\u001b[43md\u001b[49m\u001b[43m)\u001b[49m\n",
      "\u001b[1;31mTypeError\u001b[0m: test8() takes 0 positional arguments but 1 was given"
     ]
    }
   ],
   "source": [
    "test8(d)"
   ]
  },
  {
   "cell_type": "code",
   "execution_count": 41,
   "id": "b7f1ca26",
   "metadata": {},
   "outputs": [],
   "source": [
    "def test9(*m, **s):\n",
    "    return m,s"
   ]
  },
  {
   "cell_type": "code",
   "execution_count": 42,
   "id": "5a43f25a",
   "metadata": {},
   "outputs": [
    {
     "data": {
      "text/plain": [
       "((345, 45, 5, 6, 56), {'b': 4, 'c': 6, 'd': 7, 'g': 9})"
      ]
     },
     "execution_count": 42,
     "metadata": {},
     "output_type": "execute_result"
    }
   ],
   "source": [
    "test9(345,45,5,6,56,b=4,c=6,d=7,g=9)"
   ]
  },
  {
   "cell_type": "code",
   "execution_count": 46,
   "id": "7bc2331f",
   "metadata": {},
   "outputs": [],
   "source": [
    "def test10(*m):\n",
    "    n=0\n",
    "    for i in m:\n",
    "        if type(i)==int:\n",
    "            n=n+i\n",
    "    return n       \n",
    "    "
   ]
  },
  {
   "cell_type": "code",
   "execution_count": 47,
   "id": "862c5b42",
   "metadata": {},
   "outputs": [
    {
     "data": {
      "text/plain": [
       "31"
      ]
     },
     "execution_count": 47,
     "metadata": {},
     "output_type": "execute_result"
    }
   ],
   "source": [
    "test10(2,3,4,5,5,6,6)"
   ]
  },
  {
   "cell_type": "code",
   "execution_count": 48,
   "id": "518a0ba3",
   "metadata": {},
   "outputs": [
    {
     "data": {
      "text/plain": [
       "9"
      ]
     },
     "execution_count": 48,
     "metadata": {},
     "output_type": "execute_result"
    }
   ],
   "source": [
    "test10(2,3,4)"
   ]
  },
  {
   "cell_type": "code",
   "execution_count": 51,
   "id": "09d2e18d",
   "metadata": {},
   "outputs": [],
   "source": [
    "def test1(*m):\n",
    "    n=1\n",
    "    for i in m:\n",
    "        if type(i)==int:\n",
    "            n=n+i\n",
    "    return n       "
   ]
  },
  {
   "cell_type": "code",
   "execution_count": 52,
   "id": "607677df",
   "metadata": {},
   "outputs": [
    {
     "data": {
      "text/plain": [
       "124"
      ]
     },
     "execution_count": 52,
     "metadata": {},
     "output_type": "execute_result"
    }
   ],
   "source": [
    "test1(4,5,6,6,7,87,8)"
   ]
  },
  {
   "cell_type": "code",
   "execution_count": 53,
   "id": "c5abff36",
   "metadata": {},
   "outputs": [
    {
     "data": {
      "text/plain": [
       "10"
      ]
     },
     "execution_count": 53,
     "metadata": {},
     "output_type": "execute_result"
    }
   ],
   "source": [
    "test1(2,3,4)"
   ]
  },
  {
   "cell_type": "code",
   "execution_count": 54,
   "id": "3cca35eb",
   "metadata": {},
   "outputs": [],
   "source": [
    "n=lambda a,b :a+b"
   ]
  },
  {
   "cell_type": "code",
   "execution_count": 55,
   "id": "341121e8",
   "metadata": {},
   "outputs": [
    {
     "data": {
      "text/plain": [
       "9"
      ]
     },
     "execution_count": 55,
     "metadata": {},
     "output_type": "execute_result"
    }
   ],
   "source": [
    "n(4,5)"
   ]
  },
  {
   "cell_type": "code",
   "execution_count": 57,
   "id": "5d748c49",
   "metadata": {},
   "outputs": [
    {
     "data": {
      "text/plain": [
       "5"
      ]
     },
     "execution_count": 57,
     "metadata": {},
     "output_type": "execute_result"
    }
   ],
   "source": [
    "n(2,3)"
   ]
  },
  {
   "cell_type": "code",
   "execution_count": 58,
   "id": "17e403e0",
   "metadata": {},
   "outputs": [],
   "source": [
    "def test5(a,b):\n",
    "    return a+b"
   ]
  },
  {
   "cell_type": "code",
   "execution_count": 59,
   "id": "80dcbe7c",
   "metadata": {},
   "outputs": [
    {
     "data": {
      "text/plain": [
       "9"
      ]
     },
     "execution_count": 59,
     "metadata": {},
     "output_type": "execute_result"
    }
   ],
   "source": [
    "test5(4,5)"
   ]
  },
  {
   "cell_type": "code",
   "execution_count": 60,
   "id": "bd439274",
   "metadata": {},
   "outputs": [
    {
     "data": {
      "text/plain": [
       "(2, 3)"
      ]
     },
     "execution_count": 60,
     "metadata": {},
     "output_type": "execute_result"
    }
   ],
   "source": [
    "test(2,3)"
   ]
  },
  {
   "cell_type": "code",
   "execution_count": 61,
   "id": "b9735c08",
   "metadata": {},
   "outputs": [
    {
     "data": {
      "text/plain": [
       "11"
      ]
     },
     "execution_count": 61,
     "metadata": {},
     "output_type": "execute_result"
    }
   ],
   "source": [
    "n(5,6)"
   ]
  },
  {
   "cell_type": "code",
   "execution_count": 62,
   "id": "3b65a6b6",
   "metadata": {},
   "outputs": [],
   "source": [
    "b=lambda *sudh: sudh"
   ]
  },
  {
   "cell_type": "code",
   "execution_count": 63,
   "id": "ded44158",
   "metadata": {},
   "outputs": [
    {
     "data": {
      "text/plain": [
       "(45, 5, 4, 5, 5, 6, 677)"
      ]
     },
     "execution_count": 63,
     "metadata": {},
     "output_type": "execute_result"
    }
   ],
   "source": [
    "b(45,5,4,5,5,6,677)"
   ]
  },
  {
   "cell_type": "code",
   "execution_count": 66,
   "id": "442b31b4",
   "metadata": {},
   "outputs": [],
   "source": [
    "t=(3,4,4,5,5,6,67,7,7)\n",
    "l=[]\n",
    "for i in t:\n",
    "    l.append(i)"
   ]
  },
  {
   "cell_type": "code",
   "execution_count": 67,
   "id": "1f40b144",
   "metadata": {},
   "outputs": [
    {
     "data": {
      "text/plain": [
       "[3, 4, 4, 5, 5, 6, 67, 7, 7]"
      ]
     },
     "execution_count": 67,
     "metadata": {},
     "output_type": "execute_result"
    }
   ],
   "source": [
    "l"
   ]
  },
  {
   "cell_type": "code",
   "execution_count": 68,
   "id": "789b640d",
   "metadata": {},
   "outputs": [
    {
     "data": {
      "text/plain": [
       "[3, 4, 4, 5, 5, 6, 67, 7, 7]"
      ]
     },
     "execution_count": 68,
     "metadata": {},
     "output_type": "execute_result"
    }
   ],
   "source": [
    "[i for i in t]"
   ]
  },
  {
   "cell_type": "code",
   "execution_count": 69,
   "id": "7f9f44e9",
   "metadata": {},
   "outputs": [],
   "source": [
    "s=\"sudh\""
   ]
  },
  {
   "cell_type": "code",
   "execution_count": 70,
   "id": "829d3709",
   "metadata": {},
   "outputs": [
    {
     "data": {
      "text/plain": [
       "['s', 'u', 'd', 'h']"
      ]
     },
     "execution_count": 70,
     "metadata": {},
     "output_type": "execute_result"
    }
   ],
   "source": [
    "[i for i in s]"
   ]
  },
  {
   "cell_type": "code",
   "execution_count": 71,
   "id": "e7fb106f",
   "metadata": {},
   "outputs": [
    {
     "data": {
      "text/plain": [
       "[0, 1, 4, 9, 16, 25, 36, 49, 64, 81]"
      ]
     },
     "execution_count": 71,
     "metadata": {},
     "output_type": "execute_result"
    }
   ],
   "source": [
    "[i*i for i in range(10)]"
   ]
  },
  {
   "cell_type": "code",
   "execution_count": 72,
   "id": "a6fb22b2",
   "metadata": {},
   "outputs": [],
   "source": [
    "l=[]\n",
    "for i in range(10):\n",
    "    l.append(i*i)"
   ]
  },
  {
   "cell_type": "code",
   "execution_count": 73,
   "id": "7991d793",
   "metadata": {},
   "outputs": [
    {
     "data": {
      "text/plain": [
       "[0, 1, 4, 9, 16, 25, 36, 49, 64, 81]"
      ]
     },
     "execution_count": 73,
     "metadata": {},
     "output_type": "execute_result"
    }
   ],
   "source": [
    "l"
   ]
  },
  {
   "cell_type": "code",
   "execution_count": 74,
   "id": "625b6eeb",
   "metadata": {},
   "outputs": [],
   "source": [
    "l=lambda *x: [i**2 for i in x]"
   ]
  },
  {
   "cell_type": "code",
   "execution_count": 75,
   "id": "9d4876ed",
   "metadata": {},
   "outputs": [
    {
     "data": {
      "text/plain": [
       "[16, 16, 25, 25, 36, 36, 49, 64, 81]"
      ]
     },
     "execution_count": 75,
     "metadata": {},
     "output_type": "execute_result"
    }
   ],
   "source": [
    "l(4,4,5,5,6,6,7,8,9)"
   ]
  },
  {
   "cell_type": "code",
   "execution_count": null,
   "id": "f24ec771",
   "metadata": {},
   "outputs": [],
   "source": [
    "test14(a=7,b=\"sudh\",c=345,d=\"sudh\",l=[2,3,4,45,\"sudh\"])"
   ]
  },
  {
   "cell_type": "code",
   "execution_count": 79,
   "id": "966990fa",
   "metadata": {},
   "outputs": [],
   "source": [
    "def test14(**kwargs):\n",
    "    return kwargs"
   ]
  },
  {
   "cell_type": "code",
   "execution_count": 80,
   "id": "09b2121f",
   "metadata": {},
   "outputs": [
    {
     "data": {
      "text/plain": [
       "{'a': 7, 'b': 'sudh', 'c': 345, 'd': 'sudh', 'l': [2, 3, 4, 45, 'sudh']}"
      ]
     },
     "execution_count": 80,
     "metadata": {},
     "output_type": "execute_result"
    }
   ],
   "source": [
    "test14(a=7,b=\"sudh\",c=345,d=\"sudh\",l=[2,3,4,45,\"sudh\"])"
   ]
  },
  {
   "cell_type": "code",
   "execution_count": 81,
   "id": "43d2c496",
   "metadata": {},
   "outputs": [],
   "source": [
    "l=lambda *x : [i for i in x]"
   ]
  },
  {
   "cell_type": "code",
   "execution_count": 82,
   "id": "801c7664",
   "metadata": {},
   "outputs": [
    {
     "data": {
      "text/plain": [
       "[1, 2, 3, 4, 5]"
      ]
     },
     "execution_count": 82,
     "metadata": {},
     "output_type": "execute_result"
    }
   ],
   "source": [
    "l(1,2,3,4,5)"
   ]
  },
  {
   "cell_type": "code",
   "execution_count": 86,
   "id": "f6b6a635",
   "metadata": {},
   "outputs": [],
   "source": [
    "def test14(**kwargs):\n",
    "    count=0\n",
    "    print(kwargs)\n",
    "    print(kwargs.values())\n",
    "    for v in kwargs.values():\n",
    "        if type(v)==str:\n",
    "            count+=1\n",
    "        if type(v)==list:\n",
    "            for i in v:\n",
    "                if type(i)==str:\n",
    "                    count+=1\n",
    "    return count               "
   ]
  },
  {
   "cell_type": "code",
   "execution_count": 87,
   "id": "9f7ef2f9",
   "metadata": {},
   "outputs": [
    {
     "name": "stdout",
     "output_type": "stream",
     "text": [
      "{'a': 7, 'b': 'sudh', 'c': 345, 'd': 'sudh', 'l': [2, 3, 4, 45, 'sudh']}\n",
      "dict_values([7, 'sudh', 345, 'sudh', [2, 3, 4, 45, 'sudh']])\n"
     ]
    },
    {
     "data": {
      "text/plain": [
       "3"
      ]
     },
     "execution_count": 87,
     "metadata": {},
     "output_type": "execute_result"
    }
   ],
   "source": [
    "test14(a=7,b=\"sudh\",c=345,d=\"sudh\",l=[2,3,4,45,\"sudh\"])"
   ]
  },
  {
   "cell_type": "code",
   "execution_count": 92,
   "id": "f854c2a9",
   "metadata": {},
   "outputs": [],
   "source": [
    "def test15(**kwargs):\n",
    "    return list(kwargs.values())"
   ]
  },
  {
   "cell_type": "code",
   "execution_count": 93,
   "id": "4bb84e19",
   "metadata": {},
   "outputs": [
    {
     "data": {
      "text/plain": [
       "[7, 'sudh', 345, 'sudh', [2, 3, 4, 45, 'sudh']]"
      ]
     },
     "execution_count": 93,
     "metadata": {},
     "output_type": "execute_result"
    }
   ],
   "source": [
    "test15(a=7,b=\"sudh\",c=345,d=\"sudh\",l=[2,3,4,45,\"sudh\"])"
   ]
  },
  {
   "cell_type": "code",
   "execution_count": null,
   "id": "c9144e37",
   "metadata": {},
   "outputs": [],
   "source": []
  }
 ],
 "metadata": {
  "kernelspec": {
   "display_name": "Python 3 (ipykernel)",
   "language": "python",
   "name": "python3"
  },
  "language_info": {
   "codemirror_mode": {
    "name": "ipython",
    "version": 3
   },
   "file_extension": ".py",
   "mimetype": "text/x-python",
   "name": "python",
   "nbconvert_exporter": "python",
   "pygments_lexer": "ipython3",
   "version": "3.9.12"
  }
 },
 "nbformat": 4,
 "nbformat_minor": 5
}
