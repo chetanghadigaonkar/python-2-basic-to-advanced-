{
 "cells": [
  {
   "cell_type": "code",
   "execution_count": 1,
   "id": "304ef467",
   "metadata": {},
   "outputs": [],
   "source": [
    "l=[1,3,4,5,5]"
   ]
  },
  {
   "cell_type": "code",
   "execution_count": 2,
   "id": "b1950454",
   "metadata": {},
   "outputs": [
    {
     "name": "stdout",
     "output_type": "stream",
     "text": [
      "1\n",
      "3\n",
      "4\n",
      "5\n",
      "5\n"
     ]
    }
   ],
   "source": [
    "for i in l:\n",
    "    print(i)"
   ]
  },
  {
   "cell_type": "code",
   "execution_count": 3,
   "id": "bc2b37e1",
   "metadata": {},
   "outputs": [
    {
     "ename": "TypeError",
     "evalue": "'list' object is not an iterator",
     "output_type": "error",
     "traceback": [
      "\u001b[1;31m---------------------------------------------------------------------------\u001b[0m",
      "\u001b[1;31mTypeError\u001b[0m                                 Traceback (most recent call last)",
      "Input \u001b[1;32mIn [3]\u001b[0m, in \u001b[0;36m<cell line: 1>\u001b[1;34m()\u001b[0m\n\u001b[1;32m----> 1\u001b[0m \u001b[38;5;28;43mnext\u001b[39;49m\u001b[43m(\u001b[49m\u001b[43ml\u001b[49m\u001b[43m)\u001b[49m\n",
      "\u001b[1;31mTypeError\u001b[0m: 'list' object is not an iterator"
     ]
    }
   ],
   "source": [
    "next(l)"
   ]
  },
  {
   "cell_type": "code",
   "execution_count": 4,
   "id": "85f92a9a",
   "metadata": {},
   "outputs": [],
   "source": [
    "b=iter(l)"
   ]
  },
  {
   "cell_type": "code",
   "execution_count": 5,
   "id": "64c3a09e",
   "metadata": {},
   "outputs": [
    {
     "data": {
      "text/plain": [
       "1"
      ]
     },
     "execution_count": 5,
     "metadata": {},
     "output_type": "execute_result"
    }
   ],
   "source": [
    "next(b)"
   ]
  },
  {
   "cell_type": "code",
   "execution_count": 6,
   "id": "f4e5a678",
   "metadata": {},
   "outputs": [
    {
     "data": {
      "text/plain": [
       "3"
      ]
     },
     "execution_count": 6,
     "metadata": {},
     "output_type": "execute_result"
    }
   ],
   "source": [
    "next(b)"
   ]
  },
  {
   "cell_type": "code",
   "execution_count": 7,
   "id": "767fda5f",
   "metadata": {},
   "outputs": [
    {
     "data": {
      "text/plain": [
       "4"
      ]
     },
     "execution_count": 7,
     "metadata": {},
     "output_type": "execute_result"
    }
   ],
   "source": [
    "next(b)"
   ]
  },
  {
   "cell_type": "code",
   "execution_count": 8,
   "id": "6263afcf",
   "metadata": {},
   "outputs": [
    {
     "data": {
      "text/plain": [
       "5"
      ]
     },
     "execution_count": 8,
     "metadata": {},
     "output_type": "execute_result"
    }
   ],
   "source": [
    "next(b)"
   ]
  },
  {
   "cell_type": "code",
   "execution_count": 9,
   "id": "55e6777f",
   "metadata": {},
   "outputs": [
    {
     "data": {
      "text/plain": [
       "5"
      ]
     },
     "execution_count": 9,
     "metadata": {},
     "output_type": "execute_result"
    }
   ],
   "source": [
    "next(b)"
   ]
  },
  {
   "cell_type": "code",
   "execution_count": 10,
   "id": "972c2ee5",
   "metadata": {},
   "outputs": [
    {
     "ename": "StopIteration",
     "evalue": "",
     "output_type": "error",
     "traceback": [
      "\u001b[1;31m---------------------------------------------------------------------------\u001b[0m",
      "\u001b[1;31mStopIteration\u001b[0m                             Traceback (most recent call last)",
      "Input \u001b[1;32mIn [10]\u001b[0m, in \u001b[0;36m<cell line: 1>\u001b[1;34m()\u001b[0m\n\u001b[1;32m----> 1\u001b[0m \u001b[38;5;28;43mnext\u001b[39;49m\u001b[43m(\u001b[49m\u001b[43mb\u001b[49m\u001b[43m)\u001b[49m\n",
      "\u001b[1;31mStopIteration\u001b[0m: "
     ]
    }
   ],
   "source": [
    "next(b)"
   ]
  },
  {
   "cell_type": "code",
   "execution_count": 11,
   "id": "de7a6973",
   "metadata": {},
   "outputs": [
    {
     "ename": "TypeError",
     "evalue": "'int' object is not an iterator",
     "output_type": "error",
     "traceback": [
      "\u001b[1;31m---------------------------------------------------------------------------\u001b[0m",
      "\u001b[1;31mTypeError\u001b[0m                                 Traceback (most recent call last)",
      "Input \u001b[1;32mIn [11]\u001b[0m, in \u001b[0;36m<cell line: 1>\u001b[1;34m()\u001b[0m\n\u001b[1;32m----> 1\u001b[0m \u001b[38;5;28;43mnext\u001b[39;49m\u001b[43m(\u001b[49m\u001b[38;5;241;43m45\u001b[39;49m\u001b[43m)\u001b[49m\n",
      "\u001b[1;31mTypeError\u001b[0m: 'int' object is not an iterator"
     ]
    }
   ],
   "source": [
    "next(45)"
   ]
  },
  {
   "cell_type": "code",
   "execution_count": 12,
   "id": "2742736b",
   "metadata": {},
   "outputs": [
    {
     "ename": "TypeError",
     "evalue": "'int' object is not iterable",
     "output_type": "error",
     "traceback": [
      "\u001b[1;31m---------------------------------------------------------------------------\u001b[0m",
      "\u001b[1;31mTypeError\u001b[0m                                 Traceback (most recent call last)",
      "Input \u001b[1;32mIn [12]\u001b[0m, in \u001b[0;36m<cell line: 1>\u001b[1;34m()\u001b[0m\n\u001b[1;32m----> 1\u001b[0m \u001b[38;5;28;43miter\u001b[39;49m\u001b[43m(\u001b[49m\u001b[38;5;241;43m45\u001b[39;49m\u001b[43m)\u001b[49m\n",
      "\u001b[1;31mTypeError\u001b[0m: 'int' object is not iterable"
     ]
    }
   ],
   "source": [
    "iter(45)"
   ]
  },
  {
   "cell_type": "code",
   "execution_count": 14,
   "id": "d71e1f55",
   "metadata": {},
   "outputs": [
    {
     "ename": "TypeError",
     "evalue": "'int' object is not iterable",
     "output_type": "error",
     "traceback": [
      "\u001b[1;31m---------------------------------------------------------------------------\u001b[0m",
      "\u001b[1;31mTypeError\u001b[0m                                 Traceback (most recent call last)",
      "Input \u001b[1;32mIn [14]\u001b[0m, in \u001b[0;36m<cell line: 1>\u001b[1;34m()\u001b[0m\n\u001b[1;32m----> 1\u001b[0m \u001b[38;5;28;01mfor\u001b[39;00m i \u001b[38;5;129;01min\u001b[39;00m \u001b[38;5;241m45456\u001b[39m:\n\u001b[0;32m      2\u001b[0m     \u001b[38;5;28mprint\u001b[39m(i)\n",
      "\u001b[1;31mTypeError\u001b[0m: 'int' object is not iterable"
     ]
    }
   ],
   "source": [
    "for i in 45456:\n",
    "    print(i)"
   ]
  },
  {
   "cell_type": "code",
   "execution_count": 15,
   "id": "15d36cde",
   "metadata": {},
   "outputs": [
    {
     "data": {
      "text/plain": [
       "[1, 3, 4, 5, 5]"
      ]
     },
     "execution_count": 15,
     "metadata": {},
     "output_type": "execute_result"
    }
   ],
   "source": [
    "l"
   ]
  },
  {
   "cell_type": "code",
   "execution_count": 16,
   "id": "ee14a7f0",
   "metadata": {},
   "outputs": [
    {
     "name": "stdout",
     "output_type": "stream",
     "text": [
      "1\n",
      "3\n",
      "4\n",
      "5\n",
      "5\n"
     ]
    }
   ],
   "source": [
    "for i in l:\n",
    "    print(i)"
   ]
  },
  {
   "cell_type": "code",
   "execution_count": 17,
   "id": "7c79a1e0",
   "metadata": {},
   "outputs": [],
   "source": [
    "s=\"sudh\""
   ]
  },
  {
   "cell_type": "code",
   "execution_count": 18,
   "id": "aa8c0b34",
   "metadata": {},
   "outputs": [
    {
     "ename": "TypeError",
     "evalue": "'str' object is not an iterator",
     "output_type": "error",
     "traceback": [
      "\u001b[1;31m---------------------------------------------------------------------------\u001b[0m",
      "\u001b[1;31mTypeError\u001b[0m                                 Traceback (most recent call last)",
      "Input \u001b[1;32mIn [18]\u001b[0m, in \u001b[0;36m<cell line: 1>\u001b[1;34m()\u001b[0m\n\u001b[1;32m----> 1\u001b[0m \u001b[38;5;28;43mnext\u001b[39;49m\u001b[43m(\u001b[49m\u001b[43ms\u001b[49m\u001b[43m)\u001b[49m\n",
      "\u001b[1;31mTypeError\u001b[0m: 'str' object is not an iterator"
     ]
    }
   ],
   "source": [
    "next(s)"
   ]
  },
  {
   "cell_type": "code",
   "execution_count": 19,
   "id": "ecfa0676",
   "metadata": {},
   "outputs": [],
   "source": [
    "s=iter(s)"
   ]
  },
  {
   "cell_type": "code",
   "execution_count": 20,
   "id": "ea2f43d4",
   "metadata": {},
   "outputs": [
    {
     "data": {
      "text/plain": [
       "'s'"
      ]
     },
     "execution_count": 20,
     "metadata": {},
     "output_type": "execute_result"
    }
   ],
   "source": [
    "next(s)"
   ]
  },
  {
   "cell_type": "code",
   "execution_count": 21,
   "id": "b3c8aec4",
   "metadata": {},
   "outputs": [
    {
     "data": {
      "text/plain": [
       "'u'"
      ]
     },
     "execution_count": 21,
     "metadata": {},
     "output_type": "execute_result"
    }
   ],
   "source": [
    "next(s)"
   ]
  },
  {
   "cell_type": "code",
   "execution_count": 22,
   "id": "e3529bae",
   "metadata": {},
   "outputs": [
    {
     "data": {
      "text/plain": [
       "'d'"
      ]
     },
     "execution_count": 22,
     "metadata": {},
     "output_type": "execute_result"
    }
   ],
   "source": [
    "next(s)"
   ]
  },
  {
   "cell_type": "code",
   "execution_count": 23,
   "id": "1f677370",
   "metadata": {},
   "outputs": [
    {
     "data": {
      "text/plain": [
       "'h'"
      ]
     },
     "execution_count": 23,
     "metadata": {},
     "output_type": "execute_result"
    }
   ],
   "source": [
    "next(s)"
   ]
  },
  {
   "cell_type": "code",
   "execution_count": 24,
   "id": "d061a225",
   "metadata": {},
   "outputs": [
    {
     "ename": "StopIteration",
     "evalue": "",
     "output_type": "error",
     "traceback": [
      "\u001b[1;31m---------------------------------------------------------------------------\u001b[0m",
      "\u001b[1;31mStopIteration\u001b[0m                             Traceback (most recent call last)",
      "Input \u001b[1;32mIn [24]\u001b[0m, in \u001b[0;36m<cell line: 1>\u001b[1;34m()\u001b[0m\n\u001b[1;32m----> 1\u001b[0m \u001b[38;5;28;43mnext\u001b[39;49m\u001b[43m(\u001b[49m\u001b[43ms\u001b[49m\u001b[43m)\u001b[49m\n",
      "\u001b[1;31mStopIteration\u001b[0m: "
     ]
    }
   ],
   "source": [
    "next(s)"
   ]
  },
  {
   "cell_type": "code",
   "execution_count": 27,
   "id": "cc01c3f2",
   "metadata": {},
   "outputs": [
    {
     "name": "stdout",
     "output_type": "stream",
     "text": [
      "s\n",
      "u\n",
      "d\n",
      "h\n"
     ]
    }
   ],
   "source": [
    "s=\"sudh\"\n",
    "for i in s:\n",
    "    print(i)"
   ]
  },
  {
   "cell_type": "code",
   "execution_count": 28,
   "id": "c7d13431",
   "metadata": {},
   "outputs": [],
   "source": [
    "t=(5,6,7,8,8)"
   ]
  },
  {
   "cell_type": "code",
   "execution_count": 29,
   "id": "72d79776",
   "metadata": {},
   "outputs": [
    {
     "ename": "TypeError",
     "evalue": "'tuple' object is not an iterator",
     "output_type": "error",
     "traceback": [
      "\u001b[1;31m---------------------------------------------------------------------------\u001b[0m",
      "\u001b[1;31mTypeError\u001b[0m                                 Traceback (most recent call last)",
      "Input \u001b[1;32mIn [29]\u001b[0m, in \u001b[0;36m<cell line: 1>\u001b[1;34m()\u001b[0m\n\u001b[1;32m----> 1\u001b[0m \u001b[38;5;28;43mnext\u001b[39;49m\u001b[43m(\u001b[49m\u001b[43mt\u001b[49m\u001b[43m)\u001b[49m\n",
      "\u001b[1;31mTypeError\u001b[0m: 'tuple' object is not an iterator"
     ]
    }
   ],
   "source": [
    "next(t)"
   ]
  },
  {
   "cell_type": "code",
   "execution_count": 30,
   "id": "df152195",
   "metadata": {},
   "outputs": [],
   "source": [
    "t=iter(t)"
   ]
  },
  {
   "cell_type": "code",
   "execution_count": 31,
   "id": "13b342fd",
   "metadata": {},
   "outputs": [
    {
     "data": {
      "text/plain": [
       "5"
      ]
     },
     "execution_count": 31,
     "metadata": {},
     "output_type": "execute_result"
    }
   ],
   "source": [
    "next(t)"
   ]
  },
  {
   "cell_type": "code",
   "execution_count": 32,
   "id": "e1bd4ae0",
   "metadata": {},
   "outputs": [
    {
     "data": {
      "text/plain": [
       "6"
      ]
     },
     "execution_count": 32,
     "metadata": {},
     "output_type": "execute_result"
    }
   ],
   "source": [
    "next(t)"
   ]
  },
  {
   "cell_type": "code",
   "execution_count": 33,
   "id": "01d8164c",
   "metadata": {},
   "outputs": [
    {
     "data": {
      "text/plain": [
       "7"
      ]
     },
     "execution_count": 33,
     "metadata": {},
     "output_type": "execute_result"
    }
   ],
   "source": [
    "next(t)"
   ]
  },
  {
   "cell_type": "code",
   "execution_count": 34,
   "id": "5df12cfb",
   "metadata": {},
   "outputs": [
    {
     "data": {
      "text/plain": [
       "8"
      ]
     },
     "execution_count": 34,
     "metadata": {},
     "output_type": "execute_result"
    }
   ],
   "source": [
    "next(t)"
   ]
  },
  {
   "cell_type": "code",
   "execution_count": 35,
   "id": "87bc6c86",
   "metadata": {},
   "outputs": [
    {
     "data": {
      "text/plain": [
       "8"
      ]
     },
     "execution_count": 35,
     "metadata": {},
     "output_type": "execute_result"
    }
   ],
   "source": [
    "next(t)"
   ]
  },
  {
   "cell_type": "code",
   "execution_count": 36,
   "id": "e50b4856",
   "metadata": {},
   "outputs": [
    {
     "ename": "StopIteration",
     "evalue": "",
     "output_type": "error",
     "traceback": [
      "\u001b[1;31m---------------------------------------------------------------------------\u001b[0m",
      "\u001b[1;31mStopIteration\u001b[0m                             Traceback (most recent call last)",
      "Input \u001b[1;32mIn [36]\u001b[0m, in \u001b[0;36m<cell line: 1>\u001b[1;34m()\u001b[0m\n\u001b[1;32m----> 1\u001b[0m \u001b[38;5;28;43mnext\u001b[39;49m\u001b[43m(\u001b[49m\u001b[43mt\u001b[49m\u001b[43m)\u001b[49m\n",
      "\u001b[1;31mStopIteration\u001b[0m: "
     ]
    }
   ],
   "source": [
    "next(t)"
   ]
  },
  {
   "cell_type": "code",
   "execution_count": 38,
   "id": "72392a89",
   "metadata": {},
   "outputs": [
    {
     "data": {
      "text/plain": [
       "[1, 2, 3, 4, 5, 6, 7, 8, 9]"
      ]
     },
     "execution_count": 38,
     "metadata": {},
     "output_type": "execute_result"
    }
   ],
   "source": [
    "list(range(1,10))"
   ]
  },
  {
   "cell_type": "code",
   "execution_count": 39,
   "id": "7e9009f6",
   "metadata": {},
   "outputs": [],
   "source": [
    "def square_fun(n):\n",
    "    x=[i*i for i in range(n)]\n",
    "    return x"
   ]
  },
  {
   "cell_type": "code",
   "execution_count": 40,
   "id": "99000339",
   "metadata": {},
   "outputs": [
    {
     "data": {
      "text/plain": [
       "[0, 1, 4, 9]"
      ]
     },
     "execution_count": 40,
     "metadata": {},
     "output_type": "execute_result"
    }
   ],
   "source": [
    "square_fun(4)"
   ]
  },
  {
   "cell_type": "code",
   "execution_count": 41,
   "id": "19281f48",
   "metadata": {},
   "outputs": [
    {
     "data": {
      "text/plain": [
       "[0, 1, 2, 3]"
      ]
     },
     "execution_count": 41,
     "metadata": {},
     "output_type": "execute_result"
    }
   ],
   "source": [
    "list(range(4))"
   ]
  },
  {
   "cell_type": "code",
   "execution_count": 43,
   "id": "a4d79606",
   "metadata": {},
   "outputs": [],
   "source": [
    "def square_fun1(n):\n",
    "    x=[i*i for i in range(n)]\n",
    "    yield x"
   ]
  },
  {
   "cell_type": "code",
   "execution_count": 44,
   "id": "2702e06c",
   "metadata": {},
   "outputs": [
    {
     "data": {
      "text/plain": [
       "<generator object square_fun1 at 0x000001F54D28E4A0>"
      ]
     },
     "execution_count": 44,
     "metadata": {},
     "output_type": "execute_result"
    }
   ],
   "source": [
    "square_fun1(4)"
   ]
  },
  {
   "cell_type": "code",
   "execution_count": 45,
   "id": "8a54a619",
   "metadata": {},
   "outputs": [
    {
     "data": {
      "text/plain": [
       "range(0, 5)"
      ]
     },
     "execution_count": 45,
     "metadata": {},
     "output_type": "execute_result"
    }
   ],
   "source": [
    "range(5)"
   ]
  },
  {
   "cell_type": "code",
   "execution_count": 46,
   "id": "e40c2b1a",
   "metadata": {},
   "outputs": [
    {
     "name": "stdout",
     "output_type": "stream",
     "text": [
      "[0, 1, 4, 9]\n"
     ]
    }
   ],
   "source": [
    "for i in square_fun1(4):\n",
    "    print(i)"
   ]
  },
  {
   "cell_type": "code",
   "execution_count": 47,
   "id": "d4984dc4",
   "metadata": {},
   "outputs": [
    {
     "name": "stdout",
     "output_type": "stream",
     "text": [
      "0\n",
      "1\n",
      "2\n",
      "3\n"
     ]
    }
   ],
   "source": [
    "for i in range(4):\n",
    "    print(i)"
   ]
  },
  {
   "cell_type": "code",
   "execution_count": 48,
   "id": "358e17ea",
   "metadata": {},
   "outputs": [
    {
     "data": {
      "text/plain": [
       "[0, 1, 4, 9]"
      ]
     },
     "execution_count": 48,
     "metadata": {},
     "output_type": "execute_result"
    }
   ],
   "source": [
    "next(square_fun1(4))"
   ]
  },
  {
   "cell_type": "code",
   "execution_count": 49,
   "id": "85590979",
   "metadata": {},
   "outputs": [
    {
     "data": {
      "text/plain": [
       "[0, 1, 4, 9, 16]"
      ]
     },
     "execution_count": 49,
     "metadata": {},
     "output_type": "execute_result"
    }
   ],
   "source": [
    "next(square_fun1(5))"
   ]
  },
  {
   "cell_type": "code",
   "execution_count": 50,
   "id": "5d1618e1",
   "metadata": {},
   "outputs": [
    {
     "ename": "TypeError",
     "evalue": "'range' object is not an iterator",
     "output_type": "error",
     "traceback": [
      "\u001b[1;31m---------------------------------------------------------------------------\u001b[0m",
      "\u001b[1;31mTypeError\u001b[0m                                 Traceback (most recent call last)",
      "Input \u001b[1;32mIn [50]\u001b[0m, in \u001b[0;36m<cell line: 1>\u001b[1;34m()\u001b[0m\n\u001b[1;32m----> 1\u001b[0m \u001b[38;5;28;43mnext\u001b[39;49m\u001b[43m(\u001b[49m\u001b[38;5;28;43mrange\u001b[39;49m\u001b[43m(\u001b[49m\u001b[38;5;241;43m4\u001b[39;49m\u001b[43m)\u001b[49m\u001b[43m)\u001b[49m\n",
      "\u001b[1;31mTypeError\u001b[0m: 'range' object is not an iterator"
     ]
    }
   ],
   "source": [
    "next(range(4))"
   ]
  },
  {
   "cell_type": "code",
   "execution_count": 51,
   "id": "02b7ae8a",
   "metadata": {},
   "outputs": [],
   "source": [
    "r=iter(range(4))"
   ]
  },
  {
   "cell_type": "code",
   "execution_count": 52,
   "id": "9bf5bd89",
   "metadata": {},
   "outputs": [
    {
     "data": {
      "text/plain": [
       "0"
      ]
     },
     "execution_count": 52,
     "metadata": {},
     "output_type": "execute_result"
    }
   ],
   "source": [
    "next(r)"
   ]
  },
  {
   "cell_type": "code",
   "execution_count": 53,
   "id": "35e87a47",
   "metadata": {},
   "outputs": [
    {
     "data": {
      "text/plain": [
       "1"
      ]
     },
     "execution_count": 53,
     "metadata": {},
     "output_type": "execute_result"
    }
   ],
   "source": [
    "next(r)"
   ]
  },
  {
   "cell_type": "code",
   "execution_count": 54,
   "id": "1a9fafeb",
   "metadata": {},
   "outputs": [
    {
     "data": {
      "text/plain": [
       "2"
      ]
     },
     "execution_count": 54,
     "metadata": {},
     "output_type": "execute_result"
    }
   ],
   "source": [
    "next(r)"
   ]
  },
  {
   "cell_type": "code",
   "execution_count": 55,
   "id": "3be65a06",
   "metadata": {},
   "outputs": [
    {
     "data": {
      "text/plain": [
       "3"
      ]
     },
     "execution_count": 55,
     "metadata": {},
     "output_type": "execute_result"
    }
   ],
   "source": [
    "next(r)"
   ]
  },
  {
   "cell_type": "code",
   "execution_count": 56,
   "id": "57713c45",
   "metadata": {},
   "outputs": [
    {
     "ename": "StopIteration",
     "evalue": "",
     "output_type": "error",
     "traceback": [
      "\u001b[1;31m---------------------------------------------------------------------------\u001b[0m",
      "\u001b[1;31mStopIteration\u001b[0m                             Traceback (most recent call last)",
      "Input \u001b[1;32mIn [56]\u001b[0m, in \u001b[0;36m<cell line: 1>\u001b[1;34m()\u001b[0m\n\u001b[1;32m----> 1\u001b[0m \u001b[38;5;28;43mnext\u001b[39;49m\u001b[43m(\u001b[49m\u001b[43mr\u001b[49m\u001b[43m)\u001b[49m\n",
      "\u001b[1;31mStopIteration\u001b[0m: "
     ]
    }
   ],
   "source": [
    "next(r)"
   ]
  },
  {
   "cell_type": "code",
   "execution_count": 7,
   "id": "5cd7a6ff",
   "metadata": {},
   "outputs": [],
   "source": [
    "def genfib(n):\n",
    "    a=1\n",
    "    b=1\n",
    "    l=[]\n",
    "    for i in range(n):\n",
    "        l.append(a)\n",
    "        a,b=b,a+b\n",
    "    return l   "
   ]
  },
  {
   "cell_type": "code",
   "execution_count": 8,
   "id": "c49ec190",
   "metadata": {},
   "outputs": [
    {
     "data": {
      "text/plain": [
       "[1, 1, 2, 3, 5, 8, 13, 21, 34, 55]"
      ]
     },
     "execution_count": 8,
     "metadata": {},
     "output_type": "execute_result"
    }
   ],
   "source": [
    "genfib(10)"
   ]
  },
  {
   "cell_type": "code",
   "execution_count": 9,
   "id": "8163ea05",
   "metadata": {},
   "outputs": [],
   "source": [
    "def genfib(n):\n",
    "    a=1\n",
    "    b=1\n",
    "    l=[]\n",
    "    for i in range(n):\n",
    "        yield a\n",
    "        a,b=b,a+b\n",
    "     "
   ]
  },
  {
   "cell_type": "code",
   "execution_count": 10,
   "id": "81e528d3",
   "metadata": {},
   "outputs": [
    {
     "data": {
      "text/plain": [
       "<generator object genfib at 0x000001673E38CD60>"
      ]
     },
     "execution_count": 10,
     "metadata": {},
     "output_type": "execute_result"
    }
   ],
   "source": [
    "genfib(10)"
   ]
  },
  {
   "cell_type": "code",
   "execution_count": 11,
   "id": "71fe6c6b",
   "metadata": {},
   "outputs": [
    {
     "name": "stdout",
     "output_type": "stream",
     "text": [
      "1\n",
      "1\n",
      "2\n",
      "3\n",
      "5\n",
      "8\n",
      "13\n",
      "21\n",
      "34\n",
      "55\n"
     ]
    }
   ],
   "source": [
    "for i in genfib(10):\n",
    "    print(i)"
   ]
  },
  {
   "cell_type": "code",
   "execution_count": null,
   "id": "fe511d62",
   "metadata": {},
   "outputs": [],
   "source": []
  },
  {
   "cell_type": "code",
   "execution_count": 12,
   "id": "c4a9cce2",
   "metadata": {},
   "outputs": [],
   "source": [
    "f=open(\"sudh3.txt\",\"w\")"
   ]
  },
  {
   "cell_type": "code",
   "execution_count": 13,
   "id": "1dcc67aa",
   "metadata": {},
   "outputs": [
    {
     "name": "stdout",
     "output_type": "stream",
     "text": [
      " Volume in drive C has no label.\n",
      " Volume Serial Number is 3459-824F\n",
      "\n",
      " Directory of C:\\Users\\dell\n",
      "\n",
      "15-11-2022  17:41    <DIR>          .\n",
      "15-11-2022  17:41    <DIR>          ..\n",
      "08-08-2020  21:38             2,465 .bash_history\n",
      "22-10-2022  10:21    <DIR>          .conda\n",
      "05-10-2022  08:45                25 .condarc\n",
      "05-10-2022  08:44    <DIR>          .continuum\n",
      "23-10-2022  20:14    <DIR>          .cufflinks\n",
      "11-07-2022  06:57    <DIR>          .idlerc\n",
      "15-11-2022  15:17    <DIR>          .ipynb_checkpoints\n",
      "14-08-2022  09:59    <DIR>          .ipython\n",
      "14-08-2022  11:07    <DIR>          .jupyter\n",
      "07-09-2022  21:02    <DIR>          .matplotlib\n",
      "29-08-2022  07:17    <DIR>          .vscode\n",
      "06-11-2022  16:20           821,316 18.1.1 data visualization Introduction.ipynb\n",
      "23-03-2021  12:37    <DIR>          3D Objects\n",
      "07-10-2020  21:04        33,891,416 Agga Bai Sasubai Oct 7, 2020 Full Episode - Online in HD ZEE5.mp4\n",
      "22-10-2022  10:33    <DIR>          anaconda3\n",
      "23-10-2022  19:36    <DIR>          api_project\n",
      "19-10-2022  12:04            47,298 Attribute DataSet.xlsx\n",
      "23-03-2021  12:37    <DIR>          Contacts\n",
      "14-11-2022  20:34    <DIR>          Desktop\n",
      "23-10-2022  10:51    <DIR>          Documents\n",
      "15-11-2022  17:11    <DIR>          Downloads\n",
      "06-12-2020  11:27             9,273 Excel sheet teaching.xlsx\n",
      "23-03-2021  12:37    <DIR>          Favorites\n",
      "07-11-2022  16:13       182,443,835 iterator , generator , map , reduce , filter , basic file operation .ipynb\n",
      "23-03-2021  12:37    <DIR>          Links\n",
      "18-10-2022  14:49    <DIR>          mangotest\n",
      "07-10-2020  21:08        30,261,479 Mazhya Navryachi Bayko Oct 7, 2020 Full Episode - Online in HD ZEE5.mp4\n",
      "23-03-2021  12:37    <DIR>          Music\n",
      "21-10-2022  21:11            42,423 numpy1.ipynb\n",
      "30-11-2021  09:06    <DIR>          OneDrive\n",
      "19-10-2022  19:06            90,374 pandas1.py.ipynb\n",
      "20-10-2022  17:54           406,974 pandas2.ipynb\n",
      "21-10-2022  15:36           129,771 pandas3.ipynb\n",
      "26-03-2021  19:21    <DIR>          Pictures\n",
      "01-08-2022  20:51    <DIR>          PycharmProjects\n",
      "06-10-2022  21:02             8,628 python1.ipynb\n",
      "12-10-2022  13:14            17,013 python10(exception handling).ipynb\n",
      "10-10-2022  20:11            38,166 python2.ipynb\n",
      "10-10-2022  21:16            63,356 python3.ipynb\n",
      "10-11-2022  12:07            15,932 python4.ipynb\n",
      "08-10-2022  16:25           328,162 python6.ipynb\n",
      "08-10-2022  21:04            21,633 python7(function).ipynb\n",
      "10-10-2022  12:08       148,719,572 python8(iterator).ipynb\n",
      "10-10-2022  18:53            34,316 python9(itarable).ipynb\n",
      "08-11-2022  12:14            16,276 Rpython1(variable).ipynb\n",
      "13-11-2022  16:57            36,066 Rpython10(exception handling).ipynb\n",
      "13-11-2022  18:26            13,763 Rpython11(Exception handling revision).ipynb\n",
      "09-11-2022  13:01            54,208 Rpython2basic.ipynb\n",
      "09-11-2022  19:15            68,160 Rpython3(list,tuple,dict,set).ipynb\n",
      "10-11-2022  12:06            16,926 Rpython4(if,elif,else).ipynb\n",
      "10-11-2022  22:37            16,498 Rpython5(for loop).ipynb\n",
      "12-11-2022  16:37            29,429 Rpython6(while loop & basic function).ipynb\n",
      "12-11-2022  18:27            24,087 Rpython7(function).ipynb\n",
      "23-03-2021  12:37    <DIR>          Saved Games\n",
      "22-10-2022  16:48    <DIR>          seaborn-data\n",
      "23-03-2021  12:37    <DIR>          Searches\n",
      "10-10-2022  15:40                36 sudh1.txt\n",
      "15-11-2022  17:39                67 sudh2.txt\n",
      "15-11-2022  17:41                 0 sudh3.txt\n",
      "10-10-2022  15:53                21 test.sudh\n",
      "10-10-2022  17:00                33 test.txt\n",
      "10-10-2022  15:46                55 test1.txt\n",
      "19-10-2022  17:23            94,421 test123.json\n",
      "10-10-2022  15:57               448 test5.txt\n",
      "10-10-2022  17:02                78 test8.txt\n",
      "15-10-2022  10:33    <DIR>          testProject\n",
      "10-10-2022  15:50                28 text2.txt\n",
      "02-11-2022  12:45            56,502 Transformation.ipynb\n",
      "07-10-2022  11:14             3,213 Untitled.ipynb\n",
      "14-08-2022  10:53             2,627 Untitled1.ipynb\n",
      "12-10-2022  18:09             8,444 Untitled10.ipynb\n",
      "19-10-2022  12:04             9,372 Untitled11.ipynb\n",
      "22-10-2022  09:09             2,613 Untitled12.ipynb\n",
      "22-10-2022  09:25             3,662 Untitled13.ipynb\n",
      "22-10-2022  10:08             7,743 Untitled14.ipynb\n",
      "22-10-2022  10:25             1,681 Untitled15.ipynb\n",
      "22-10-2022  11:15             5,953 Untitled16.ipynb\n",
      "23-10-2022  20:15             7,669 Untitled17.ipynb\n",
      "22-10-2022  21:17         1,239,147 Untitled18.ipynb\n",
      "10-11-2022  22:29            22,365 Untitled19.ipynb\n",
      "14-08-2022  11:04             1,492 Untitled2.ipynb\n",
      "12-11-2022  18:25            24,087 Untitled20.ipynb\n",
      "13-11-2022  18:25            13,763 Untitled21.ipynb\n",
      "15-11-2022  17:39            36,916 Untitled22.ipynb\n",
      "14-08-2022  11:37             2,770 Untitled3.ipynb\n",
      "14-08-2022  11:42             2,027 Untitled4.ipynb\n",
      "14-08-2022  11:44             3,224 Untitled5.ipynb\n",
      "14-08-2022  13:23             6,293 Untitled6.ipynb\n",
      "06-10-2022  21:02               589 Untitled7.ipynb\n",
      "05-10-2022  09:30                72 Untitled8.ipynb\n",
      "07-10-2022  15:47               589 Untitled9.ipynb\n",
      "23-03-2021  12:37    <DIR>          Videos\n",
      "07-11-2022  16:11            51,822 while loop and basic of function .ipynb\n",
      "              65 File(s)    399,278,662 bytes\n",
      "              30 Dir(s)  118,159,560,704 bytes free\n"
     ]
    }
   ],
   "source": [
    "ls"
   ]
  },
  {
   "cell_type": "code",
   "execution_count": 14,
   "id": "773f71c9",
   "metadata": {},
   "outputs": [
    {
     "data": {
      "text/plain": [
       "36"
      ]
     },
     "execution_count": 14,
     "metadata": {},
     "output_type": "execute_result"
    }
   ],
   "source": [
    "f.write(\"this is my very first file operation\")"
   ]
  },
  {
   "cell_type": "code",
   "execution_count": 15,
   "id": "f4d5de29",
   "metadata": {},
   "outputs": [],
   "source": [
    "f.close()"
   ]
  },
  {
   "cell_type": "code",
   "execution_count": 16,
   "id": "0821e613",
   "metadata": {},
   "outputs": [
    {
     "name": "stdout",
     "output_type": "stream",
     "text": [
      " Volume in drive C has no label.\n",
      " Volume Serial Number is 3459-824F\n",
      "\n",
      " Directory of C:\\Users\\dell\n",
      "\n",
      "15-11-2022  17:41    <DIR>          .\n",
      "15-11-2022  17:41    <DIR>          ..\n",
      "08-08-2020  21:38             2,465 .bash_history\n",
      "22-10-2022  10:21    <DIR>          .conda\n",
      "05-10-2022  08:45                25 .condarc\n",
      "05-10-2022  08:44    <DIR>          .continuum\n",
      "23-10-2022  20:14    <DIR>          .cufflinks\n",
      "11-07-2022  06:57    <DIR>          .idlerc\n",
      "15-11-2022  15:17    <DIR>          .ipynb_checkpoints\n",
      "14-08-2022  09:59    <DIR>          .ipython\n",
      "14-08-2022  11:07    <DIR>          .jupyter\n",
      "07-09-2022  21:02    <DIR>          .matplotlib\n",
      "29-08-2022  07:17    <DIR>          .vscode\n",
      "06-11-2022  16:20           821,316 18.1.1 data visualization Introduction.ipynb\n",
      "23-03-2021  12:37    <DIR>          3D Objects\n",
      "07-10-2020  21:04        33,891,416 Agga Bai Sasubai Oct 7, 2020 Full Episode - Online in HD ZEE5.mp4\n",
      "22-10-2022  10:33    <DIR>          anaconda3\n",
      "23-10-2022  19:36    <DIR>          api_project\n",
      "19-10-2022  12:04            47,298 Attribute DataSet.xlsx\n",
      "23-03-2021  12:37    <DIR>          Contacts\n",
      "14-11-2022  20:34    <DIR>          Desktop\n",
      "23-10-2022  10:51    <DIR>          Documents\n",
      "15-11-2022  17:11    <DIR>          Downloads\n",
      "06-12-2020  11:27             9,273 Excel sheet teaching.xlsx\n",
      "23-03-2021  12:37    <DIR>          Favorites\n",
      "07-11-2022  16:13       182,443,835 iterator , generator , map , reduce , filter , basic file operation .ipynb\n",
      "23-03-2021  12:37    <DIR>          Links\n",
      "18-10-2022  14:49    <DIR>          mangotest\n",
      "07-10-2020  21:08        30,261,479 Mazhya Navryachi Bayko Oct 7, 2020 Full Episode - Online in HD ZEE5.mp4\n",
      "23-03-2021  12:37    <DIR>          Music\n",
      "21-10-2022  21:11            42,423 numpy1.ipynb\n",
      "30-11-2021  09:06    <DIR>          OneDrive\n",
      "19-10-2022  19:06            90,374 pandas1.py.ipynb\n",
      "20-10-2022  17:54           406,974 pandas2.ipynb\n",
      "21-10-2022  15:36           129,771 pandas3.ipynb\n",
      "26-03-2021  19:21    <DIR>          Pictures\n",
      "01-08-2022  20:51    <DIR>          PycharmProjects\n",
      "06-10-2022  21:02             8,628 python1.ipynb\n",
      "12-10-2022  13:14            17,013 python10(exception handling).ipynb\n",
      "10-10-2022  20:11            38,166 python2.ipynb\n",
      "10-10-2022  21:16            63,356 python3.ipynb\n",
      "10-11-2022  12:07            15,932 python4.ipynb\n",
      "08-10-2022  16:25           328,162 python6.ipynb\n",
      "08-10-2022  21:04            21,633 python7(function).ipynb\n",
      "10-10-2022  12:08       148,719,572 python8(iterator).ipynb\n",
      "10-10-2022  18:53            34,316 python9(itarable).ipynb\n",
      "08-11-2022  12:14            16,276 Rpython1(variable).ipynb\n",
      "13-11-2022  16:57            36,066 Rpython10(exception handling).ipynb\n",
      "13-11-2022  18:26            13,763 Rpython11(Exception handling revision).ipynb\n",
      "09-11-2022  13:01            54,208 Rpython2basic.ipynb\n",
      "09-11-2022  19:15            68,160 Rpython3(list,tuple,dict,set).ipynb\n",
      "10-11-2022  12:06            16,926 Rpython4(if,elif,else).ipynb\n",
      "10-11-2022  22:37            16,498 Rpython5(for loop).ipynb\n",
      "12-11-2022  16:37            29,429 Rpython6(while loop & basic function).ipynb\n",
      "12-11-2022  18:27            24,087 Rpython7(function).ipynb\n",
      "23-03-2021  12:37    <DIR>          Saved Games\n",
      "22-10-2022  16:48    <DIR>          seaborn-data\n",
      "23-03-2021  12:37    <DIR>          Searches\n",
      "10-10-2022  15:40                36 sudh1.txt\n",
      "15-11-2022  17:39                67 sudh2.txt\n",
      "15-11-2022  17:41                36 sudh3.txt\n",
      "10-10-2022  15:53                21 test.sudh\n",
      "10-10-2022  17:00                33 test.txt\n",
      "10-10-2022  15:46                55 test1.txt\n",
      "19-10-2022  17:23            94,421 test123.json\n",
      "10-10-2022  15:57               448 test5.txt\n",
      "10-10-2022  17:02                78 test8.txt\n",
      "15-10-2022  10:33    <DIR>          testProject\n",
      "10-10-2022  15:50                28 text2.txt\n",
      "02-11-2022  12:45            56,502 Transformation.ipynb\n",
      "07-10-2022  11:14             3,213 Untitled.ipynb\n",
      "14-08-2022  10:53             2,627 Untitled1.ipynb\n",
      "12-10-2022  18:09             8,444 Untitled10.ipynb\n",
      "19-10-2022  12:04             9,372 Untitled11.ipynb\n",
      "22-10-2022  09:09             2,613 Untitled12.ipynb\n",
      "22-10-2022  09:25             3,662 Untitled13.ipynb\n",
      "22-10-2022  10:08             7,743 Untitled14.ipynb\n",
      "22-10-2022  10:25             1,681 Untitled15.ipynb\n",
      "22-10-2022  11:15             5,953 Untitled16.ipynb\n",
      "23-10-2022  20:15             7,669 Untitled17.ipynb\n",
      "22-10-2022  21:17         1,239,147 Untitled18.ipynb\n",
      "10-11-2022  22:29            22,365 Untitled19.ipynb\n",
      "14-08-2022  11:04             1,492 Untitled2.ipynb\n",
      "12-11-2022  18:25            24,087 Untitled20.ipynb\n",
      "13-11-2022  18:25            13,763 Untitled21.ipynb\n",
      "15-11-2022  17:39            36,916 Untitled22.ipynb\n",
      "14-08-2022  11:37             2,770 Untitled3.ipynb\n",
      "14-08-2022  11:42             2,027 Untitled4.ipynb\n",
      "14-08-2022  11:44             3,224 Untitled5.ipynb\n",
      "14-08-2022  13:23             6,293 Untitled6.ipynb\n",
      "06-10-2022  21:02               589 Untitled7.ipynb\n",
      "05-10-2022  09:30                72 Untitled8.ipynb\n",
      "07-10-2022  15:47               589 Untitled9.ipynb\n",
      "23-03-2021  12:37    <DIR>          Videos\n",
      "07-11-2022  16:11            51,822 while loop and basic of function .ipynb\n",
      "              65 File(s)    399,278,698 bytes\n",
      "              30 Dir(s)  118,159,364,096 bytes free\n"
     ]
    }
   ],
   "source": [
    "ls"
   ]
  },
  {
   "cell_type": "code",
   "execution_count": 17,
   "id": "5304bac6",
   "metadata": {},
   "outputs": [],
   "source": [
    "f1=open(\"chetan1.txt\",\"w\")"
   ]
  },
  {
   "cell_type": "code",
   "execution_count": 18,
   "id": "bdada16d",
   "metadata": {},
   "outputs": [
    {
     "data": {
      "text/plain": [
       "54"
      ]
     },
     "execution_count": 18,
     "metadata": {},
     "output_type": "execute_result"
    }
   ],
   "source": [
    "f1.write(\"this is file oparation i am try to do in my fsds class\")"
   ]
  },
  {
   "cell_type": "code",
   "execution_count": 19,
   "id": "69137ed7",
   "metadata": {},
   "outputs": [],
   "source": [
    "f1.close()"
   ]
  },
  {
   "cell_type": "code",
   "execution_count": 20,
   "id": "6876387e",
   "metadata": {},
   "outputs": [],
   "source": [
    "l=[1,2,3,45,6,7,8,9]"
   ]
  },
  {
   "cell_type": "code",
   "execution_count": 21,
   "id": "44d0a1dd",
   "metadata": {},
   "outputs": [],
   "source": [
    "f2=open(\"chetan2.txt\",\"w\")"
   ]
  },
  {
   "cell_type": "code",
   "execution_count": 22,
   "id": "9476c310",
   "metadata": {},
   "outputs": [
    {
     "ename": "TypeError",
     "evalue": "write() argument must be str, not list",
     "output_type": "error",
     "traceback": [
      "\u001b[1;31m---------------------------------------------------------------------------\u001b[0m",
      "\u001b[1;31mTypeError\u001b[0m                                 Traceback (most recent call last)",
      "Input \u001b[1;32mIn [22]\u001b[0m, in \u001b[0;36m<cell line: 1>\u001b[1;34m()\u001b[0m\n\u001b[1;32m----> 1\u001b[0m \u001b[43mf2\u001b[49m\u001b[38;5;241;43m.\u001b[39;49m\u001b[43mwrite\u001b[49m\u001b[43m(\u001b[49m\u001b[43ml\u001b[49m\u001b[43m)\u001b[49m\n",
      "\u001b[1;31mTypeError\u001b[0m: write() argument must be str, not list"
     ]
    }
   ],
   "source": [
    "f2.write(l)"
   ]
  },
  {
   "cell_type": "code",
   "execution_count": 24,
   "id": "3807af3a",
   "metadata": {},
   "outputs": [
    {
     "data": {
      "text/plain": [
       "25"
      ]
     },
     "execution_count": 24,
     "metadata": {},
     "output_type": "execute_result"
    }
   ],
   "source": [
    "f2.write(str(l))"
   ]
  },
  {
   "cell_type": "code",
   "execution_count": 25,
   "id": "665bfa23",
   "metadata": {},
   "outputs": [],
   "source": [
    "f2.close()"
   ]
  },
  {
   "cell_type": "code",
   "execution_count": 27,
   "id": "2ae64bd8",
   "metadata": {},
   "outputs": [],
   "source": [
    "f3=open(\"chetan3.txt\",\"w\")\n",
    "f3.write(\"ghsfsnbjsg hgsfssj hfsgsfhgd khsgs\")\n",
    "f3.close()"
   ]
  },
  {
   "cell_type": "code",
   "execution_count": 30,
   "id": "6b1bd128",
   "metadata": {},
   "outputs": [
    {
     "name": "stdout",
     "output_type": "stream",
     "text": [
      "Overwriting chetan4.txt\n"
     ]
    }
   ],
   "source": [
    "%%writefile chetan4.txt\n",
    "this is my python program to write into afile in different way\n",
    "this is my python program to write into afile in different way\n",
    "this is my python program to write into afile in different way\n",
    "this is my python program to write into afile in different way\n",
    "this is my python program to write into afile in different way"
   ]
  },
  {
   "cell_type": "code",
   "execution_count": 31,
   "id": "af25c44a",
   "metadata": {},
   "outputs": [],
   "source": [
    "f=open(\"chetan4.txt\")"
   ]
  },
  {
   "cell_type": "code",
   "execution_count": 32,
   "id": "8e5354e4",
   "metadata": {},
   "outputs": [
    {
     "data": {
      "text/plain": [
       "'this is my python program to write into afile in different way\\nthis is my python program to write into afile in different way\\nthis is my python program to write into afile in different way\\nthis is my python program to write into afile in different way\\nthis is my python program to write into afile in different way\\n'"
      ]
     },
     "execution_count": 32,
     "metadata": {},
     "output_type": "execute_result"
    }
   ],
   "source": [
    "f.read()"
   ]
  },
  {
   "cell_type": "code",
   "execution_count": 33,
   "id": "3dd4458b",
   "metadata": {},
   "outputs": [
    {
     "data": {
      "text/plain": [
       "''"
      ]
     },
     "execution_count": 33,
     "metadata": {},
     "output_type": "execute_result"
    }
   ],
   "source": [
    "f.read()"
   ]
  },
  {
   "cell_type": "code",
   "execution_count": 34,
   "id": "a863ecb0",
   "metadata": {},
   "outputs": [
    {
     "data": {
      "text/plain": [
       "''"
      ]
     },
     "execution_count": 34,
     "metadata": {},
     "output_type": "execute_result"
    }
   ],
   "source": [
    "f.read()"
   ]
  },
  {
   "cell_type": "code",
   "execution_count": 35,
   "id": "c6ed0d20",
   "metadata": {},
   "outputs": [
    {
     "data": {
      "text/plain": [
       "0"
      ]
     },
     "execution_count": 35,
     "metadata": {},
     "output_type": "execute_result"
    }
   ],
   "source": [
    "f.seek(0)"
   ]
  },
  {
   "cell_type": "code",
   "execution_count": 36,
   "id": "e8fe2c47",
   "metadata": {},
   "outputs": [
    {
     "data": {
      "text/plain": [
       "'this is my python program to write into afile in different way\\nthis is my python program to write into afile in different way\\nthis is my python program to write into afile in different way\\nthis is my python program to write into afile in different way\\nthis is my python program to write into afile in different way\\n'"
      ]
     },
     "execution_count": 36,
     "metadata": {},
     "output_type": "execute_result"
    }
   ],
   "source": [
    "f.read()"
   ]
  },
  {
   "cell_type": "code",
   "execution_count": 37,
   "id": "ab8df5fd",
   "metadata": {},
   "outputs": [
    {
     "data": {
      "text/plain": [
       "''"
      ]
     },
     "execution_count": 37,
     "metadata": {},
     "output_type": "execute_result"
    }
   ],
   "source": [
    "f.read()"
   ]
  },
  {
   "cell_type": "code",
   "execution_count": 38,
   "id": "dc053a84",
   "metadata": {},
   "outputs": [
    {
     "data": {
      "text/plain": [
       "0"
      ]
     },
     "execution_count": 38,
     "metadata": {},
     "output_type": "execute_result"
    }
   ],
   "source": [
    "f.seek(0)"
   ]
  },
  {
   "cell_type": "code",
   "execution_count": 39,
   "id": "ec8026fc",
   "metadata": {},
   "outputs": [
    {
     "data": {
      "text/plain": [
       "'this is my python program to write into afile in different way\\nthis is my python program to write into afile in different way\\nthis is my python program to write into afile in different way\\nthis is my python program to write into afile in different way\\nthis is my python program to write into afile in different way\\n'"
      ]
     },
     "execution_count": 39,
     "metadata": {},
     "output_type": "execute_result"
    }
   ],
   "source": [
    "f.read()"
   ]
  },
  {
   "cell_type": "code",
   "execution_count": 40,
   "id": "02f66f7c",
   "metadata": {},
   "outputs": [
    {
     "data": {
      "text/plain": [
       "4"
      ]
     },
     "execution_count": 40,
     "metadata": {},
     "output_type": "execute_result"
    }
   ],
   "source": [
    "f.seek(4)"
   ]
  },
  {
   "cell_type": "code",
   "execution_count": 41,
   "id": "d1044b65",
   "metadata": {},
   "outputs": [
    {
     "data": {
      "text/plain": [
       "' is my python program to write into afile in different way\\nthis is my python program to write into afile in different way\\nthis is my python program to write into afile in different way\\nthis is my python program to write into afile in different way\\nthis is my python program to write into afile in different way\\n'"
      ]
     },
     "execution_count": 41,
     "metadata": {},
     "output_type": "execute_result"
    }
   ],
   "source": [
    "f.read()"
   ]
  },
  {
   "cell_type": "code",
   "execution_count": 42,
   "id": "8a3eac56",
   "metadata": {},
   "outputs": [
    {
     "data": {
      "text/plain": [
       "50"
      ]
     },
     "execution_count": 42,
     "metadata": {},
     "output_type": "execute_result"
    }
   ],
   "source": [
    "f.seek(50)"
   ]
  },
  {
   "cell_type": "code",
   "execution_count": 43,
   "id": "2a09a44b",
   "metadata": {},
   "outputs": [
    {
     "data": {
      "text/plain": [
       "'ifferent way\\nthis is my python program to write into afile in different way\\nthis is my python program to write into afile in different way\\nthis is my python program to write into afile in different way\\nthis is my python program to write into afile in different way\\n'"
      ]
     },
     "execution_count": 43,
     "metadata": {},
     "output_type": "execute_result"
    }
   ],
   "source": [
    "f.read()"
   ]
  },
  {
   "cell_type": "code",
   "execution_count": 44,
   "id": "cc8b5be4",
   "metadata": {},
   "outputs": [],
   "source": [
    "f=open(\"chetan4.txt\")"
   ]
  },
  {
   "cell_type": "code",
   "execution_count": 46,
   "id": "6d3ea2ba",
   "metadata": {},
   "outputs": [
    {
     "data": {
      "text/plain": [
       "0"
      ]
     },
     "execution_count": 46,
     "metadata": {},
     "output_type": "execute_result"
    }
   ],
   "source": [
    "f.tell()"
   ]
  },
  {
   "cell_type": "code",
   "execution_count": 48,
   "id": "fd5f24b8",
   "metadata": {},
   "outputs": [
    {
     "data": {
      "text/plain": [
       "'this is my python program to write into afile in different way\\nthis is my python program to write into afile in different way\\nthis is my python program to write into afile in different way\\nthis is my python program to write into afile in different way\\nthis is my python program to write into afile in different way\\n'"
      ]
     },
     "execution_count": 48,
     "metadata": {},
     "output_type": "execute_result"
    }
   ],
   "source": [
    "f.read()"
   ]
  },
  {
   "cell_type": "code",
   "execution_count": 49,
   "id": "68a9ea10",
   "metadata": {},
   "outputs": [
    {
     "data": {
      "text/plain": [
       "320"
      ]
     },
     "execution_count": 49,
     "metadata": {},
     "output_type": "execute_result"
    }
   ],
   "source": [
    "f.tell()"
   ]
  },
  {
   "cell_type": "code",
   "execution_count": 50,
   "id": "a7a6f6bc",
   "metadata": {},
   "outputs": [
    {
     "data": {
      "text/plain": [
       "5"
      ]
     },
     "execution_count": 50,
     "metadata": {},
     "output_type": "execute_result"
    }
   ],
   "source": [
    "f.seek(5)"
   ]
  },
  {
   "cell_type": "code",
   "execution_count": 51,
   "id": "6f98ed91",
   "metadata": {},
   "outputs": [
    {
     "data": {
      "text/plain": [
       "5"
      ]
     },
     "execution_count": 51,
     "metadata": {},
     "output_type": "execute_result"
    }
   ],
   "source": [
    "f.tell()"
   ]
  },
  {
   "cell_type": "code",
   "execution_count": 52,
   "id": "ff17dc84",
   "metadata": {},
   "outputs": [
    {
     "data": {
      "text/plain": [
       "'is my python program to write into afile in different way\\nthis is my python program to write into afile in different way\\nthis is my python program to write into afile in different way\\nthis is my python program to write into afile in different way\\nthis is my python program to write into afile in different way\\n'"
      ]
     },
     "execution_count": 52,
     "metadata": {},
     "output_type": "execute_result"
    }
   ],
   "source": [
    "f.read()"
   ]
  },
  {
   "cell_type": "code",
   "execution_count": 53,
   "id": "c761fd11",
   "metadata": {},
   "outputs": [
    {
     "data": {
      "text/plain": [
       "10"
      ]
     },
     "execution_count": 53,
     "metadata": {},
     "output_type": "execute_result"
    }
   ],
   "source": [
    "f.seek(10)"
   ]
  },
  {
   "cell_type": "code",
   "execution_count": 54,
   "id": "b0a30952",
   "metadata": {},
   "outputs": [
    {
     "data": {
      "text/plain": [
       "' python program'"
      ]
     },
     "execution_count": 54,
     "metadata": {},
     "output_type": "execute_result"
    }
   ],
   "source": [
    "f.read(15)"
   ]
  },
  {
   "cell_type": "code",
   "execution_count": 55,
   "id": "d7629792",
   "metadata": {},
   "outputs": [],
   "source": [
    "f=open(\"chetan4.txt\")"
   ]
  },
  {
   "cell_type": "code",
   "execution_count": 56,
   "id": "447dcb51",
   "metadata": {},
   "outputs": [
    {
     "data": {
      "text/plain": [
       "'this is my python program to write into afile in different way\\nthis is my python program to write into afile in different way\\nthis is my python program to write into afile in different way\\nthis is my python program to write into afile in different way\\nthis is my python program to write into afile in different way\\n'"
      ]
     },
     "execution_count": 56,
     "metadata": {},
     "output_type": "execute_result"
    }
   ],
   "source": [
    "f.read()"
   ]
  },
  {
   "cell_type": "code",
   "execution_count": 60,
   "id": "0a44d0e0",
   "metadata": {},
   "outputs": [
    {
     "data": {
      "text/plain": [
       "0"
      ]
     },
     "execution_count": 60,
     "metadata": {},
     "output_type": "execute_result"
    }
   ],
   "source": [
    "f.seek(0)"
   ]
  },
  {
   "cell_type": "code",
   "execution_count": 61,
   "id": "7ca43bdd",
   "metadata": {},
   "outputs": [
    {
     "data": {
      "text/plain": [
       "'this is my python program to write into afile in different way\\n'"
      ]
     },
     "execution_count": 61,
     "metadata": {},
     "output_type": "execute_result"
    }
   ],
   "source": [
    "f.readline()"
   ]
  },
  {
   "cell_type": "code",
   "execution_count": 62,
   "id": "27896d7a",
   "metadata": {},
   "outputs": [
    {
     "data": {
      "text/plain": [
       "['this is my python program to write into afile in different way\\n',\n",
       " 'this is my python program to write into afile in different way\\n',\n",
       " 'this is my python program to write into afile in different way\\n',\n",
       " 'this is my python program to write into afile in different way\\n']"
      ]
     },
     "execution_count": 62,
     "metadata": {},
     "output_type": "execute_result"
    }
   ],
   "source": [
    "f.readlines()"
   ]
  },
  {
   "cell_type": "code",
   "execution_count": 63,
   "id": "39cb976a",
   "metadata": {},
   "outputs": [
    {
     "data": {
      "text/plain": [
       "<_io.TextIOWrapper name='chetan4.txt' mode='r' encoding='cp1252'>"
      ]
     },
     "execution_count": 63,
     "metadata": {},
     "output_type": "execute_result"
    }
   ],
   "source": [
    "f"
   ]
  },
  {
   "cell_type": "code",
   "execution_count": 64,
   "id": "6451ba3b",
   "metadata": {},
   "outputs": [
    {
     "data": {
      "text/plain": [
       "4"
      ]
     },
     "execution_count": 64,
     "metadata": {},
     "output_type": "execute_result"
    }
   ],
   "source": [
    "f.fileno()"
   ]
  },
  {
   "cell_type": "code",
   "execution_count": 90,
   "id": "4368bbfc",
   "metadata": {},
   "outputs": [],
   "source": [
    "f=open(\"chetan5.txt\",\"w\")"
   ]
  },
  {
   "cell_type": "code",
   "execution_count": 91,
   "id": "271c51df",
   "metadata": {},
   "outputs": [
    {
     "data": {
      "text/plain": [
       "58"
      ]
     },
     "execution_count": 91,
     "metadata": {},
     "output_type": "execute_result"
    }
   ],
   "source": [
    "f.write(\"\"\"this is my python program to write into afile in different\"\"\")"
   ]
  },
  {
   "cell_type": "code",
   "execution_count": null,
   "id": "5a76008b",
   "metadata": {},
   "outputs": [],
   "source": [
    "f.close()"
   ]
  },
  {
   "cell_type": "code",
   "execution_count": 92,
   "id": "8dd740ab",
   "metadata": {},
   "outputs": [
    {
     "data": {
      "text/plain": [
       "25"
      ]
     },
     "execution_count": 92,
     "metadata": {},
     "output_type": "execute_result"
    }
   ],
   "source": [
    "f.write(\"fsdhshv gfsgshds gasfxgsg\")"
   ]
  },
  {
   "cell_type": "code",
   "execution_count": 93,
   "id": "ff1dc96c",
   "metadata": {},
   "outputs": [],
   "source": [
    "f.close()"
   ]
  },
  {
   "cell_type": "code",
   "execution_count": 101,
   "id": "19c3c930",
   "metadata": {},
   "outputs": [],
   "source": [
    "f=open(\"chetan6.txt\",\"w\")"
   ]
  },
  {
   "cell_type": "code",
   "execution_count": 102,
   "id": "1985e933",
   "metadata": {},
   "outputs": [
    {
     "data": {
      "text/plain": [
       "19"
      ]
     },
     "execution_count": 102,
     "metadata": {},
     "output_type": "execute_result"
    }
   ],
   "source": [
    "f.write(\"gfshs gsfsggd fshsg\")"
   ]
  },
  {
   "cell_type": "code",
   "execution_count": 103,
   "id": "71331f80",
   "metadata": {},
   "outputs": [],
   "source": [
    "f.close()"
   ]
  },
  {
   "cell_type": "code",
   "execution_count": 104,
   "id": "24b9c75c",
   "metadata": {},
   "outputs": [],
   "source": [
    "f=open(\"chetan6.txt\",\"a\")"
   ]
  },
  {
   "cell_type": "code",
   "execution_count": 105,
   "id": "5f495175",
   "metadata": {},
   "outputs": [
    {
     "data": {
      "text/plain": [
       "22"
      ]
     },
     "execution_count": 105,
     "metadata": {},
     "output_type": "execute_result"
    }
   ],
   "source": [
    "f.write(\"this is my new dataset\")"
   ]
  },
  {
   "cell_type": "code",
   "execution_count": 106,
   "id": "48046400",
   "metadata": {},
   "outputs": [],
   "source": [
    "f.close()"
   ]
  },
  {
   "cell_type": "code",
   "execution_count": 107,
   "id": "e3d9c1be",
   "metadata": {},
   "outputs": [
    {
     "data": {
      "text/plain": [
       "'chetan6.txt'"
      ]
     },
     "execution_count": 107,
     "metadata": {},
     "output_type": "execute_result"
    }
   ],
   "source": [
    "f.name"
   ]
  },
  {
   "cell_type": "code",
   "execution_count": 108,
   "id": "9f1cafd5",
   "metadata": {},
   "outputs": [
    {
     "data": {
      "text/plain": [
       "'a'"
      ]
     },
     "execution_count": 108,
     "metadata": {},
     "output_type": "execute_result"
    }
   ],
   "source": [
    "f.mode"
   ]
  },
  {
   "cell_type": "markdown",
   "id": "eabbd8e6",
   "metadata": {},
   "source": [
    "# map,reduce, filter"
   ]
  },
  {
   "cell_type": "code",
   "execution_count": 110,
   "id": "51844f8b",
   "metadata": {},
   "outputs": [],
   "source": [
    "l=[2,3,4,5,5,6]\n",
    "l1=[]\n",
    "for i in l:\n",
    "    l1.append(i**2)"
   ]
  },
  {
   "cell_type": "code",
   "execution_count": 111,
   "id": "cb76f440",
   "metadata": {},
   "outputs": [
    {
     "data": {
      "text/plain": [
       "[4, 9, 16, 25, 25, 36]"
      ]
     },
     "execution_count": 111,
     "metadata": {},
     "output_type": "execute_result"
    }
   ],
   "source": [
    "l1"
   ]
  },
  {
   "cell_type": "code",
   "execution_count": 112,
   "id": "8b627de0",
   "metadata": {},
   "outputs": [],
   "source": [
    "def sq(n):\n",
    "    return n**2"
   ]
  },
  {
   "cell_type": "code",
   "execution_count": 113,
   "id": "6d6693e5",
   "metadata": {},
   "outputs": [
    {
     "data": {
      "text/plain": [
       "[4, 9, 16, 25, 25, 36]"
      ]
     },
     "execution_count": 113,
     "metadata": {},
     "output_type": "execute_result"
    }
   ],
   "source": [
    "list(map(sq,l))"
   ]
  },
  {
   "cell_type": "code",
   "execution_count": 114,
   "id": "d808634f",
   "metadata": {},
   "outputs": [
    {
     "data": {
      "text/plain": [
       "[4, 9, 16, 25, 25, 36]"
      ]
     },
     "execution_count": 114,
     "metadata": {},
     "output_type": "execute_result"
    }
   ],
   "source": [
    "list(map(lambda x: x**2,l))"
   ]
  },
  {
   "cell_type": "code",
   "execution_count": 115,
   "id": "25dd8801",
   "metadata": {},
   "outputs": [
    {
     "data": {
      "text/plain": [
       "[2, 3, 4, 5, 5, 6]"
      ]
     },
     "execution_count": 115,
     "metadata": {},
     "output_type": "execute_result"
    }
   ],
   "source": [
    "l"
   ]
  },
  {
   "cell_type": "code",
   "execution_count": 116,
   "id": "731db080",
   "metadata": {},
   "outputs": [
    {
     "data": {
      "text/plain": [
       "['2', '3', '4', '5', '5', '6']"
      ]
     },
     "execution_count": 116,
     "metadata": {},
     "output_type": "execute_result"
    }
   ],
   "source": [
    "list(map(lambda x:str(x),l))"
   ]
  },
  {
   "cell_type": "code",
   "execution_count": 117,
   "id": "72be324c",
   "metadata": {},
   "outputs": [],
   "source": [
    "def str_c(n):\n",
    "    return str(n)"
   ]
  },
  {
   "cell_type": "code",
   "execution_count": 118,
   "id": "a03b86b5",
   "metadata": {},
   "outputs": [
    {
     "data": {
      "text/plain": [
       "['2', '3', '4', '5', '5', '6']"
      ]
     },
     "execution_count": 118,
     "metadata": {},
     "output_type": "execute_result"
    }
   ],
   "source": [
    "list(map(str_c,l))"
   ]
  },
  {
   "cell_type": "code",
   "execution_count": 119,
   "id": "e1a1c432",
   "metadata": {},
   "outputs": [
    {
     "data": {
      "text/plain": [
       "['2', '3', '4', '5', '5', '6']"
      ]
     },
     "execution_count": 119,
     "metadata": {},
     "output_type": "execute_result"
    }
   ],
   "source": [
    "list(map(str,l))"
   ]
  },
  {
   "cell_type": "code",
   "execution_count": 125,
   "id": "8e556256",
   "metadata": {},
   "outputs": [],
   "source": [
    "from functools import reduce"
   ]
  },
  {
   "cell_type": "code",
   "execution_count": 126,
   "id": "0428b002",
   "metadata": {},
   "outputs": [],
   "source": [
    "l=[3,4,5,6,7,8,9]"
   ]
  },
  {
   "cell_type": "code",
   "execution_count": 127,
   "id": "dbde708c",
   "metadata": {},
   "outputs": [
    {
     "data": {
      "text/plain": [
       "42"
      ]
     },
     "execution_count": 127,
     "metadata": {},
     "output_type": "execute_result"
    }
   ],
   "source": [
    "sum(l)"
   ]
  },
  {
   "cell_type": "code",
   "execution_count": 130,
   "id": "4656cd84",
   "metadata": {},
   "outputs": [
    {
     "data": {
      "text/plain": [
       "181440"
      ]
     },
     "execution_count": 130,
     "metadata": {},
     "output_type": "execute_result"
    }
   ],
   "source": [
    "reduce(lambda a,b: a*b,l)"
   ]
  },
  {
   "cell_type": "code",
   "execution_count": 131,
   "id": "33cf3420",
   "metadata": {},
   "outputs": [],
   "source": [
    "l=[1,2,3,4,45,5]"
   ]
  },
  {
   "cell_type": "code",
   "execution_count": 133,
   "id": "e471a118",
   "metadata": {},
   "outputs": [
    {
     "data": {
      "text/plain": [
       "[2, 4]"
      ]
     },
     "execution_count": 133,
     "metadata": {},
     "output_type": "execute_result"
    }
   ],
   "source": [
    "list(filter(lambda x: x%2==0 ,l))"
   ]
  },
  {
   "cell_type": "code",
   "execution_count": 134,
   "id": "ea28c4f7",
   "metadata": {},
   "outputs": [],
   "source": [
    "def check_even(n):\n",
    "    if n%2==0:\n",
    "        return True"
   ]
  },
  {
   "cell_type": "code",
   "execution_count": 135,
   "id": "e6351852",
   "metadata": {},
   "outputs": [
    {
     "data": {
      "text/plain": [
       "[2, 4]"
      ]
     },
     "execution_count": 135,
     "metadata": {},
     "output_type": "execute_result"
    }
   ],
   "source": [
    "list(filter(check_even,l))"
   ]
  },
  {
   "cell_type": "code",
   "execution_count": null,
   "id": "6f9d96e6",
   "metadata": {},
   "outputs": [],
   "source": []
  }
 ],
 "metadata": {
  "kernelspec": {
   "display_name": "Python 3 (ipykernel)",
   "language": "python",
   "name": "python3"
  },
  "language_info": {
   "codemirror_mode": {
    "name": "ipython",
    "version": 3
   },
   "file_extension": ".py",
   "mimetype": "text/x-python",
   "name": "python",
   "nbconvert_exporter": "python",
   "pygments_lexer": "ipython3",
   "version": "3.9.12"
  }
 },
 "nbformat": 4,
 "nbformat_minor": 5
}
